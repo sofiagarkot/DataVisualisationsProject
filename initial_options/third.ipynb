{
 "cells": [
  {
   "cell_type": "markdown",
   "metadata": {},
   "source": [
    "# Запитання: Як варіюється ціна за експортований кілограм в залежності від регіону?"
   ]
  },
  {
   "cell_type": "code",
   "execution_count": 1,
   "metadata": {},
   "outputs": [
    {
     "data": {
      "text/plain": [
       "RendererRegistry.enable('altair_viewer')"
      ]
     },
     "execution_count": 1,
     "metadata": {},
     "output_type": "execute_result"
    }
   ],
   "source": [
    "import altair as alt\n",
    "import pandas as pd\n",
    "import altair_viewer\n",
    "import warnings\n",
    "warnings.filterwarnings('ignore')\n",
    "alt.renderers.enable('altair_viewer')"
   ]
  },
  {
   "cell_type": "code",
   "execution_count": 2,
   "metadata": {},
   "outputs": [
    {
     "data": {
      "text/html": [
       "<div>\n",
       "<style scoped>\n",
       "    .dataframe tbody tr th:only-of-type {\n",
       "        vertical-align: middle;\n",
       "    }\n",
       "\n",
       "    .dataframe tbody tr th {\n",
       "        vertical-align: top;\n",
       "    }\n",
       "\n",
       "    .dataframe thead th {\n",
       "        text-align: right;\n",
       "    }\n",
       "</style>\n",
       "<table border=\"1\" class=\"dataframe\">\n",
       "  <thead>\n",
       "    <tr style=\"text-align: right;\">\n",
       "      <th></th>\n",
       "      <th>country</th>\n",
       "      <th>time</th>\n",
       "      <th>income_per_person_gdppercapita_ppp_inflation_adjusted</th>\n",
       "      <th>life_expectancy_years</th>\n",
       "      <th>population_total</th>\n",
       "      <th>name</th>\n",
       "      <th>world_4region</th>\n",
       "    </tr>\n",
       "  </thead>\n",
       "  <tbody>\n",
       "    <tr>\n",
       "      <th>0</th>\n",
       "      <td>afg</td>\n",
       "      <td>2019</td>\n",
       "      <td>1763.0</td>\n",
       "      <td>64.08</td>\n",
       "      <td>38041757</td>\n",
       "      <td>Afghanistan</td>\n",
       "      <td>Asia</td>\n",
       "    </tr>\n",
       "    <tr>\n",
       "      <th>1</th>\n",
       "      <td>ago</td>\n",
       "      <td>2019</td>\n",
       "      <td>5544.0</td>\n",
       "      <td>65.00</td>\n",
       "      <td>31825299</td>\n",
       "      <td>Angola</td>\n",
       "      <td>Africa</td>\n",
       "    </tr>\n",
       "    <tr>\n",
       "      <th>2</th>\n",
       "      <td>alb</td>\n",
       "      <td>2019</td>\n",
       "      <td>12694.0</td>\n",
       "      <td>78.47</td>\n",
       "      <td>2880913</td>\n",
       "      <td>Albania</td>\n",
       "      <td>Europe</td>\n",
       "    </tr>\n",
       "    <tr>\n",
       "      <th>3</th>\n",
       "      <td>and</td>\n",
       "      <td>2019</td>\n",
       "      <td>53245.0</td>\n",
       "      <td>NaN</td>\n",
       "      <td>77146</td>\n",
       "      <td>Andorra</td>\n",
       "      <td>Europe</td>\n",
       "    </tr>\n",
       "    <tr>\n",
       "      <th>4</th>\n",
       "      <td>are</td>\n",
       "      <td>2019</td>\n",
       "      <td>65650.0</td>\n",
       "      <td>73.63</td>\n",
       "      <td>9770526</td>\n",
       "      <td>United Arab Emirates</td>\n",
       "      <td>Asia</td>\n",
       "    </tr>\n",
       "  </tbody>\n",
       "</table>\n",
       "</div>"
      ],
      "text/plain": [
       "  country  time  income_per_person_gdppercapita_ppp_inflation_adjusted  \\\n",
       "0     afg  2019                                             1763.0       \n",
       "1     ago  2019                                             5544.0       \n",
       "2     alb  2019                                            12694.0       \n",
       "3     and  2019                                            53245.0       \n",
       "4     are  2019                                            65650.0       \n",
       "\n",
       "   life_expectancy_years  population_total                  name world_4region  \n",
       "0                  64.08          38041757           Afghanistan          Asia  \n",
       "1                  65.00          31825299                Angola        Africa  \n",
       "2                  78.47           2880913               Albania        Europe  \n",
       "3                    NaN             77146               Andorra        Europe  \n",
       "4                  73.63           9770526  United Arab Emirates          Asia  "
      ]
     },
     "execution_count": 2,
     "metadata": {},
     "output_type": "execute_result"
    }
   ],
   "source": [
    "df = pd.read_csv('gapminder_country_data.csv')\n",
    "df.head()"
   ]
  },
  {
   "cell_type": "code",
   "execution_count": 3,
   "metadata": {},
   "outputs": [
    {
     "data": {
      "text/html": [
       "<div>\n",
       "<style scoped>\n",
       "    .dataframe tbody tr th:only-of-type {\n",
       "        vertical-align: middle;\n",
       "    }\n",
       "\n",
       "    .dataframe tbody tr th {\n",
       "        vertical-align: top;\n",
       "    }\n",
       "\n",
       "    .dataframe thead th {\n",
       "        text-align: right;\n",
       "    }\n",
       "</style>\n",
       "<table border=\"1\" class=\"dataframe\">\n",
       "  <thead>\n",
       "    <tr style=\"text-align: right;\">\n",
       "      <th></th>\n",
       "      <th>id</th>\n",
       "      <th>country</th>\n",
       "      <th>region</th>\n",
       "    </tr>\n",
       "  </thead>\n",
       "  <tbody>\n",
       "    <tr>\n",
       "      <th>0</th>\n",
       "      <td>AFG</td>\n",
       "      <td>Afghanistan</td>\n",
       "      <td>Asia</td>\n",
       "    </tr>\n",
       "    <tr>\n",
       "      <th>1</th>\n",
       "      <td>AGO</td>\n",
       "      <td>Angola</td>\n",
       "      <td>Africa</td>\n",
       "    </tr>\n",
       "    <tr>\n",
       "      <th>2</th>\n",
       "      <td>ALB</td>\n",
       "      <td>Albania</td>\n",
       "      <td>Europe</td>\n",
       "    </tr>\n",
       "    <tr>\n",
       "      <th>3</th>\n",
       "      <td>AND</td>\n",
       "      <td>Andorra</td>\n",
       "      <td>Europe</td>\n",
       "    </tr>\n",
       "    <tr>\n",
       "      <th>4</th>\n",
       "      <td>ARE</td>\n",
       "      <td>United Arab Emirates</td>\n",
       "      <td>Asia</td>\n",
       "    </tr>\n",
       "  </tbody>\n",
       "</table>\n",
       "</div>"
      ],
      "text/plain": [
       "    id               country  region\n",
       "0  AFG           Afghanistan    Asia\n",
       "1  AGO                Angola  Africa\n",
       "2  ALB               Albania  Europe\n",
       "3  AND               Andorra  Europe\n",
       "4  ARE  United Arab Emirates    Asia"
      ]
     },
     "execution_count": 3,
     "metadata": {},
     "output_type": "execute_result"
    }
   ],
   "source": [
    "df.drop(['time'], axis = 1, inplace = True)\n",
    "df.columns = ['id', 'gdp_per_cap', 'life_expectancy', 'population', 'country', 'region']\n",
    "df.drop(['gdp_per_cap'], axis = 1, inplace = True)\n",
    "df.drop(['life_expectancy'], axis = 1, inplace = True)\n",
    "df.drop(['population'], axis = 1, inplace = True)\n",
    "df.id = df.id.str.upper()\n",
    "df.head()"
   ]
  },
  {
   "cell_type": "code",
   "execution_count": 4,
   "metadata": {},
   "outputs": [],
   "source": [
    "data = pd.read_csv('UNdata_Export_20211219_151223778.csv')\n",
    "\n",
    "data['country'] = data['Country or Area']"
   ]
  },
  {
   "cell_type": "code",
   "execution_count": 5,
   "metadata": {},
   "outputs": [
    {
     "data": {
      "text/html": [
       "<div>\n",
       "<style scoped>\n",
       "    .dataframe tbody tr th:only-of-type {\n",
       "        vertical-align: middle;\n",
       "    }\n",
       "\n",
       "    .dataframe tbody tr th {\n",
       "        vertical-align: top;\n",
       "    }\n",
       "\n",
       "    .dataframe thead th {\n",
       "        text-align: right;\n",
       "    }\n",
       "</style>\n",
       "<table border=\"1\" class=\"dataframe\">\n",
       "  <thead>\n",
       "    <tr style=\"text-align: right;\">\n",
       "      <th></th>\n",
       "      <th>Country or Area</th>\n",
       "      <th>Year</th>\n",
       "      <th>Commodity</th>\n",
       "      <th>Flow</th>\n",
       "      <th>Trade (USD)</th>\n",
       "      <th>Weight (kg)</th>\n",
       "      <th>Quantity Name</th>\n",
       "      <th>Quantity</th>\n",
       "      <th>country</th>\n",
       "    </tr>\n",
       "  </thead>\n",
       "  <tbody>\n",
       "    <tr>\n",
       "      <th>0</th>\n",
       "      <td>Afghanistan</td>\n",
       "      <td>2018</td>\n",
       "      <td>Cocoa powder, unsweetened</td>\n",
       "      <td>Import</td>\n",
       "      <td>7.247329e+04</td>\n",
       "      <td>8.070000e+04</td>\n",
       "      <td>Weight in kilograms</td>\n",
       "      <td>8.070000e+04</td>\n",
       "      <td>Afghanistan</td>\n",
       "    </tr>\n",
       "    <tr>\n",
       "      <th>1</th>\n",
       "      <td>Afghanistan</td>\n",
       "      <td>2018</td>\n",
       "      <td>Chocolate/cocoa food preparations nes</td>\n",
       "      <td>Import</td>\n",
       "      <td>3.281740e+07</td>\n",
       "      <td>5.662823e+06</td>\n",
       "      <td>Weight in kilograms</td>\n",
       "      <td>5.662823e+06</td>\n",
       "      <td>Afghanistan</td>\n",
       "    </tr>\n",
       "    <tr>\n",
       "      <th>2</th>\n",
       "      <td>Afghanistan</td>\n",
       "      <td>2018</td>\n",
       "      <td>Chocolate/cocoa food preparations nes</td>\n",
       "      <td>Export</td>\n",
       "      <td>4.327404e+06</td>\n",
       "      <td>0.000000e+00</td>\n",
       "      <td>Weight in kilograms</td>\n",
       "      <td>6.239175e+06</td>\n",
       "      <td>Afghanistan</td>\n",
       "    </tr>\n",
       "    <tr>\n",
       "      <th>3</th>\n",
       "      <td>Afghanistan</td>\n",
       "      <td>2018</td>\n",
       "      <td>Chocolate/cocoa food preparations nes</td>\n",
       "      <td>Re-Export</td>\n",
       "      <td>7.452492e+04</td>\n",
       "      <td>0.000000e+00</td>\n",
       "      <td>Weight in kilograms</td>\n",
       "      <td>0.000000e+00</td>\n",
       "      <td>Afghanistan</td>\n",
       "    </tr>\n",
       "    <tr>\n",
       "      <th>4</th>\n",
       "      <td>Afghanistan</td>\n",
       "      <td>2016</td>\n",
       "      <td>Chocolate/cocoa food preparations nes</td>\n",
       "      <td>Import</td>\n",
       "      <td>1.568728e+08</td>\n",
       "      <td>2.677301e+07</td>\n",
       "      <td>Weight in kilograms</td>\n",
       "      <td>2.677301e+07</td>\n",
       "      <td>Afghanistan</td>\n",
       "    </tr>\n",
       "  </tbody>\n",
       "</table>\n",
       "</div>"
      ],
      "text/plain": [
       "  Country or Area  Year                              Commodity       Flow  \\\n",
       "0     Afghanistan  2018              Cocoa powder, unsweetened     Import   \n",
       "1     Afghanistan  2018  Chocolate/cocoa food preparations nes     Import   \n",
       "2     Afghanistan  2018  Chocolate/cocoa food preparations nes     Export   \n",
       "3     Afghanistan  2018  Chocolate/cocoa food preparations nes  Re-Export   \n",
       "4     Afghanistan  2016  Chocolate/cocoa food preparations nes     Import   \n",
       "\n",
       "    Trade (USD)   Weight (kg)        Quantity Name      Quantity      country  \n",
       "0  7.247329e+04  8.070000e+04  Weight in kilograms  8.070000e+04  Afghanistan  \n",
       "1  3.281740e+07  5.662823e+06  Weight in kilograms  5.662823e+06  Afghanistan  \n",
       "2  4.327404e+06  0.000000e+00  Weight in kilograms  6.239175e+06  Afghanistan  \n",
       "3  7.452492e+04  0.000000e+00  Weight in kilograms  0.000000e+00  Afghanistan  \n",
       "4  1.568728e+08  2.677301e+07  Weight in kilograms  2.677301e+07  Afghanistan  "
      ]
     },
     "execution_count": 5,
     "metadata": {},
     "output_type": "execute_result"
    }
   ],
   "source": [
    "data.head()"
   ]
  },
  {
   "cell_type": "code",
   "execution_count": 6,
   "metadata": {},
   "outputs": [
    {
     "data": {
      "text/plain": [
       "(65353, 9)"
      ]
     },
     "execution_count": 6,
     "metadata": {},
     "output_type": "execute_result"
    }
   ],
   "source": [
    "data.shape"
   ]
  },
  {
   "cell_type": "code",
   "execution_count": 7,
   "metadata": {},
   "outputs": [
    {
     "data": {
      "text/plain": [
       "(64886, 9)"
      ]
     },
     "execution_count": 7,
     "metadata": {},
     "output_type": "execute_result"
    }
   ],
   "source": [
    "to_drop = [i for i, r in data[data['Weight (kg)']==0.0].iterrows()]\n",
    "data.drop(to_drop, axis = 0, inplace = True)\n",
    "data.shape"
   ]
  },
  {
   "cell_type": "code",
   "execution_count": 8,
   "metadata": {},
   "outputs": [],
   "source": [
    "data['$/kg'] = data['Trade (USD)']/data['Weight (kg)']"
   ]
  },
  {
   "cell_type": "code",
   "execution_count": 9,
   "metadata": {},
   "outputs": [
    {
     "data": {
      "text/plain": [
       "(24116, 10)"
      ]
     },
     "execution_count": 9,
     "metadata": {},
     "output_type": "execute_result"
    }
   ],
   "source": [
    "data= data[data['Flow']=='Export']\n",
    "data.shape"
   ]
  },
  {
   "cell_type": "code",
   "execution_count": 10,
   "metadata": {},
   "outputs": [
    {
     "data": {
      "text/html": [
       "<div>\n",
       "<style scoped>\n",
       "    .dataframe tbody tr th:only-of-type {\n",
       "        vertical-align: middle;\n",
       "    }\n",
       "\n",
       "    .dataframe tbody tr th {\n",
       "        vertical-align: top;\n",
       "    }\n",
       "\n",
       "    .dataframe thead th {\n",
       "        text-align: right;\n",
       "    }\n",
       "</style>\n",
       "<table border=\"1\" class=\"dataframe\">\n",
       "  <thead>\n",
       "    <tr style=\"text-align: right;\">\n",
       "      <th></th>\n",
       "      <th>Country or Area</th>\n",
       "      <th>Year</th>\n",
       "      <th>Commodity</th>\n",
       "      <th>Flow</th>\n",
       "      <th>Trade (USD)</th>\n",
       "      <th>Weight (kg)</th>\n",
       "      <th>Quantity Name</th>\n",
       "      <th>Quantity</th>\n",
       "      <th>country</th>\n",
       "      <th>$/kg</th>\n",
       "    </tr>\n",
       "  </thead>\n",
       "  <tbody>\n",
       "    <tr>\n",
       "      <th>16</th>\n",
       "      <td>Albania</td>\n",
       "      <td>2018</td>\n",
       "      <td>Chocolate/cocoa food preparations nes</td>\n",
       "      <td>Export</td>\n",
       "      <td>28830.057548</td>\n",
       "      <td>12523.0</td>\n",
       "      <td>Weight in kilograms</td>\n",
       "      <td>12523.0</td>\n",
       "      <td>Albania</td>\n",
       "      <td>2.302169</td>\n",
       "    </tr>\n",
       "    <tr>\n",
       "      <th>23</th>\n",
       "      <td>Albania</td>\n",
       "      <td>2017</td>\n",
       "      <td>Chocolate/cocoa food preparations nes</td>\n",
       "      <td>Export</td>\n",
       "      <td>113662.252266</td>\n",
       "      <td>49663.2</td>\n",
       "      <td>Weight in kilograms</td>\n",
       "      <td>49663.2</td>\n",
       "      <td>Albania</td>\n",
       "      <td>2.288661</td>\n",
       "    </tr>\n",
       "    <tr>\n",
       "      <th>29</th>\n",
       "      <td>Albania</td>\n",
       "      <td>2016</td>\n",
       "      <td>Chocolate, cocoa prep, block/slab/bar, not fil...</td>\n",
       "      <td>Export</td>\n",
       "      <td>2302.000000</td>\n",
       "      <td>640.0</td>\n",
       "      <td>Weight in kilograms</td>\n",
       "      <td>640.0</td>\n",
       "      <td>Albania</td>\n",
       "      <td>3.596875</td>\n",
       "    </tr>\n",
       "    <tr>\n",
       "      <th>31</th>\n",
       "      <td>Albania</td>\n",
       "      <td>2016</td>\n",
       "      <td>Chocolate/cocoa food preparations nes</td>\n",
       "      <td>Export</td>\n",
       "      <td>105124.000000</td>\n",
       "      <td>41833.0</td>\n",
       "      <td>Weight in kilograms</td>\n",
       "      <td>41833.0</td>\n",
       "      <td>Albania</td>\n",
       "      <td>2.512944</td>\n",
       "    </tr>\n",
       "    <tr>\n",
       "      <th>38</th>\n",
       "      <td>Albania</td>\n",
       "      <td>2015</td>\n",
       "      <td>Chocolate/cocoa food preparations nes</td>\n",
       "      <td>Export</td>\n",
       "      <td>102143.000000</td>\n",
       "      <td>50167.0</td>\n",
       "      <td>Weight in kilograms</td>\n",
       "      <td>50167.0</td>\n",
       "      <td>Albania</td>\n",
       "      <td>2.036060</td>\n",
       "    </tr>\n",
       "  </tbody>\n",
       "</table>\n",
       "</div>"
      ],
      "text/plain": [
       "   Country or Area  Year                                          Commodity  \\\n",
       "16         Albania  2018              Chocolate/cocoa food preparations nes   \n",
       "23         Albania  2017              Chocolate/cocoa food preparations nes   \n",
       "29         Albania  2016  Chocolate, cocoa prep, block/slab/bar, not fil...   \n",
       "31         Albania  2016              Chocolate/cocoa food preparations nes   \n",
       "38         Albania  2015              Chocolate/cocoa food preparations nes   \n",
       "\n",
       "      Flow    Trade (USD)  Weight (kg)        Quantity Name  Quantity  \\\n",
       "16  Export   28830.057548      12523.0  Weight in kilograms   12523.0   \n",
       "23  Export  113662.252266      49663.2  Weight in kilograms   49663.2   \n",
       "29  Export    2302.000000        640.0  Weight in kilograms     640.0   \n",
       "31  Export  105124.000000      41833.0  Weight in kilograms   41833.0   \n",
       "38  Export  102143.000000      50167.0  Weight in kilograms   50167.0   \n",
       "\n",
       "    country      $/kg  \n",
       "16  Albania  2.302169  \n",
       "23  Albania  2.288661  \n",
       "29  Albania  3.596875  \n",
       "31  Albania  2.512944  \n",
       "38  Albania  2.036060  "
      ]
     },
     "execution_count": 10,
     "metadata": {},
     "output_type": "execute_result"
    }
   ],
   "source": [
    "data.head()"
   ]
  },
  {
   "cell_type": "code",
   "execution_count": 11,
   "metadata": {},
   "outputs": [
    {
     "data": {
      "text/plain": [
       "(24116, 10)"
      ]
     },
     "execution_count": 11,
     "metadata": {},
     "output_type": "execute_result"
    }
   ],
   "source": [
    "data.groupby(['country' ]).sum().reset_index()\n",
    "data.shape"
   ]
  },
  {
   "cell_type": "code",
   "execution_count": 12,
   "metadata": {},
   "outputs": [
    {
     "data": {
      "text/html": [
       "<div>\n",
       "<style scoped>\n",
       "    .dataframe tbody tr th:only-of-type {\n",
       "        vertical-align: middle;\n",
       "    }\n",
       "\n",
       "    .dataframe tbody tr th {\n",
       "        vertical-align: top;\n",
       "    }\n",
       "\n",
       "    .dataframe thead th {\n",
       "        text-align: right;\n",
       "    }\n",
       "</style>\n",
       "<table border=\"1\" class=\"dataframe\">\n",
       "  <thead>\n",
       "    <tr style=\"text-align: right;\">\n",
       "      <th></th>\n",
       "      <th>Country or Area</th>\n",
       "      <th>Year</th>\n",
       "      <th>Commodity</th>\n",
       "      <th>Flow</th>\n",
       "      <th>Trade (USD)</th>\n",
       "      <th>Weight (kg)</th>\n",
       "      <th>Quantity Name</th>\n",
       "      <th>Quantity</th>\n",
       "      <th>country</th>\n",
       "      <th>$/kg</th>\n",
       "    </tr>\n",
       "  </thead>\n",
       "  <tbody>\n",
       "    <tr>\n",
       "      <th>16</th>\n",
       "      <td>Albania</td>\n",
       "      <td>2018</td>\n",
       "      <td>Chocolate/cocoa food preparations nes</td>\n",
       "      <td>Export</td>\n",
       "      <td>28830.057548</td>\n",
       "      <td>12523.0</td>\n",
       "      <td>Weight in kilograms</td>\n",
       "      <td>12523.0</td>\n",
       "      <td>Albania</td>\n",
       "      <td>2.302169</td>\n",
       "    </tr>\n",
       "    <tr>\n",
       "      <th>23</th>\n",
       "      <td>Albania</td>\n",
       "      <td>2017</td>\n",
       "      <td>Chocolate/cocoa food preparations nes</td>\n",
       "      <td>Export</td>\n",
       "      <td>113662.252266</td>\n",
       "      <td>49663.2</td>\n",
       "      <td>Weight in kilograms</td>\n",
       "      <td>49663.2</td>\n",
       "      <td>Albania</td>\n",
       "      <td>2.288661</td>\n",
       "    </tr>\n",
       "    <tr>\n",
       "      <th>29</th>\n",
       "      <td>Albania</td>\n",
       "      <td>2016</td>\n",
       "      <td>Chocolate, cocoa prep, block/slab/bar, not fil...</td>\n",
       "      <td>Export</td>\n",
       "      <td>2302.000000</td>\n",
       "      <td>640.0</td>\n",
       "      <td>Weight in kilograms</td>\n",
       "      <td>640.0</td>\n",
       "      <td>Albania</td>\n",
       "      <td>3.596875</td>\n",
       "    </tr>\n",
       "    <tr>\n",
       "      <th>31</th>\n",
       "      <td>Albania</td>\n",
       "      <td>2016</td>\n",
       "      <td>Chocolate/cocoa food preparations nes</td>\n",
       "      <td>Export</td>\n",
       "      <td>105124.000000</td>\n",
       "      <td>41833.0</td>\n",
       "      <td>Weight in kilograms</td>\n",
       "      <td>41833.0</td>\n",
       "      <td>Albania</td>\n",
       "      <td>2.512944</td>\n",
       "    </tr>\n",
       "    <tr>\n",
       "      <th>38</th>\n",
       "      <td>Albania</td>\n",
       "      <td>2015</td>\n",
       "      <td>Chocolate/cocoa food preparations nes</td>\n",
       "      <td>Export</td>\n",
       "      <td>102143.000000</td>\n",
       "      <td>50167.0</td>\n",
       "      <td>Weight in kilograms</td>\n",
       "      <td>50167.0</td>\n",
       "      <td>Albania</td>\n",
       "      <td>2.036060</td>\n",
       "    </tr>\n",
       "  </tbody>\n",
       "</table>\n",
       "</div>"
      ],
      "text/plain": [
       "   Country or Area  Year                                          Commodity  \\\n",
       "16         Albania  2018              Chocolate/cocoa food preparations nes   \n",
       "23         Albania  2017              Chocolate/cocoa food preparations nes   \n",
       "29         Albania  2016  Chocolate, cocoa prep, block/slab/bar, not fil...   \n",
       "31         Albania  2016              Chocolate/cocoa food preparations nes   \n",
       "38         Albania  2015              Chocolate/cocoa food preparations nes   \n",
       "\n",
       "      Flow    Trade (USD)  Weight (kg)        Quantity Name  Quantity  \\\n",
       "16  Export   28830.057548      12523.0  Weight in kilograms   12523.0   \n",
       "23  Export  113662.252266      49663.2  Weight in kilograms   49663.2   \n",
       "29  Export    2302.000000        640.0  Weight in kilograms     640.0   \n",
       "31  Export  105124.000000      41833.0  Weight in kilograms   41833.0   \n",
       "38  Export  102143.000000      50167.0  Weight in kilograms   50167.0   \n",
       "\n",
       "    country      $/kg  \n",
       "16  Albania  2.302169  \n",
       "23  Albania  2.288661  \n",
       "29  Albania  3.596875  \n",
       "31  Albania  2.512944  \n",
       "38  Albania  2.036060  "
      ]
     },
     "execution_count": 12,
     "metadata": {},
     "output_type": "execute_result"
    }
   ],
   "source": [
    "data.head()"
   ]
  },
  {
   "cell_type": "code",
   "execution_count": 13,
   "metadata": {},
   "outputs": [
    {
     "data": {
      "text/html": [
       "<div>\n",
       "<style scoped>\n",
       "    .dataframe tbody tr th:only-of-type {\n",
       "        vertical-align: middle;\n",
       "    }\n",
       "\n",
       "    .dataframe tbody tr th {\n",
       "        vertical-align: top;\n",
       "    }\n",
       "\n",
       "    .dataframe thead th {\n",
       "        text-align: right;\n",
       "    }\n",
       "</style>\n",
       "<table border=\"1\" class=\"dataframe\">\n",
       "  <thead>\n",
       "    <tr style=\"text-align: right;\">\n",
       "      <th></th>\n",
       "      <th>country</th>\n",
       "      <th>$/kg</th>\n",
       "    </tr>\n",
       "  </thead>\n",
       "  <tbody>\n",
       "    <tr>\n",
       "      <th>16</th>\n",
       "      <td>Albania</td>\n",
       "      <td>2.302169</td>\n",
       "    </tr>\n",
       "    <tr>\n",
       "      <th>23</th>\n",
       "      <td>Albania</td>\n",
       "      <td>2.288661</td>\n",
       "    </tr>\n",
       "    <tr>\n",
       "      <th>29</th>\n",
       "      <td>Albania</td>\n",
       "      <td>3.596875</td>\n",
       "    </tr>\n",
       "    <tr>\n",
       "      <th>31</th>\n",
       "      <td>Albania</td>\n",
       "      <td>2.512944</td>\n",
       "    </tr>\n",
       "    <tr>\n",
       "      <th>38</th>\n",
       "      <td>Albania</td>\n",
       "      <td>2.036060</td>\n",
       "    </tr>\n",
       "  </tbody>\n",
       "</table>\n",
       "</div>"
      ],
      "text/plain": [
       "    country      $/kg\n",
       "16  Albania  2.302169\n",
       "23  Albania  2.288661\n",
       "29  Albania  3.596875\n",
       "31  Albania  2.512944\n",
       "38  Albania  2.036060"
      ]
     },
     "execution_count": 13,
     "metadata": {},
     "output_type": "execute_result"
    }
   ],
   "source": [
    "n = data.iloc[:,-2:]\n",
    "n.head()"
   ]
  },
  {
   "cell_type": "code",
   "execution_count": 14,
   "metadata": {},
   "outputs": [],
   "source": [
    "n = n.groupby(['country' ]).sum().reset_index()"
   ]
  },
  {
   "cell_type": "code",
   "execution_count": 15,
   "metadata": {},
   "outputs": [
    {
     "data": {
      "text/html": [
       "<div>\n",
       "<style scoped>\n",
       "    .dataframe tbody tr th:only-of-type {\n",
       "        vertical-align: middle;\n",
       "    }\n",
       "\n",
       "    .dataframe tbody tr th {\n",
       "        vertical-align: top;\n",
       "    }\n",
       "\n",
       "    .dataframe thead th {\n",
       "        text-align: right;\n",
       "    }\n",
       "</style>\n",
       "<table border=\"1\" class=\"dataframe\">\n",
       "  <thead>\n",
       "    <tr style=\"text-align: right;\">\n",
       "      <th></th>\n",
       "      <th>country</th>\n",
       "      <th>$/kg</th>\n",
       "      <th>id</th>\n",
       "      <th>region</th>\n",
       "    </tr>\n",
       "  </thead>\n",
       "  <tbody>\n",
       "    <tr>\n",
       "      <th>0</th>\n",
       "      <td>Albania</td>\n",
       "      <td>124.697525</td>\n",
       "      <td>ALB</td>\n",
       "      <td>Europe</td>\n",
       "    </tr>\n",
       "    <tr>\n",
       "      <th>1</th>\n",
       "      <td>Algeria</td>\n",
       "      <td>1389.680428</td>\n",
       "      <td>DZA</td>\n",
       "      <td>Africa</td>\n",
       "    </tr>\n",
       "    <tr>\n",
       "      <th>2</th>\n",
       "      <td>Andorra</td>\n",
       "      <td>298.298732</td>\n",
       "      <td>AND</td>\n",
       "      <td>Europe</td>\n",
       "    </tr>\n",
       "    <tr>\n",
       "      <th>3</th>\n",
       "      <td>Angola</td>\n",
       "      <td>75.029208</td>\n",
       "      <td>AGO</td>\n",
       "      <td>Africa</td>\n",
       "    </tr>\n",
       "    <tr>\n",
       "      <th>4</th>\n",
       "      <td>Antigua and Barbuda</td>\n",
       "      <td>462.859807</td>\n",
       "      <td>ATG</td>\n",
       "      <td>Americas</td>\n",
       "    </tr>\n",
       "  </tbody>\n",
       "</table>\n",
       "</div>"
      ],
      "text/plain": [
       "               country         $/kg   id    region\n",
       "0              Albania   124.697525  ALB    Europe\n",
       "1              Algeria  1389.680428  DZA    Africa\n",
       "2              Andorra   298.298732  AND    Europe\n",
       "3               Angola    75.029208  AGO    Africa\n",
       "4  Antigua and Barbuda   462.859807  ATG  Americas"
      ]
     },
     "execution_count": 15,
     "metadata": {},
     "output_type": "execute_result"
    }
   ],
   "source": [
    "merged = n.merge(df)\n",
    "merged.head()"
   ]
  },
  {
   "cell_type": "code",
   "execution_count": 16,
   "metadata": {},
   "outputs": [],
   "source": [
    "data['year'] = data['Year'].astype(str)\n",
    "options=[None]\n",
    "options.extend(sorted(merged.region.unique().tolist()))\n",
    "labels=['All']\n",
    "labels.extend(sorted(merged.region.unique().tolist()))\n",
    "\n",
    "input_dropdown = alt.binding_select(options = options, labels=labels)\n",
    "select_region = alt.selection_single(fields = ['region'], bind = input_dropdown, name='Choose')"
   ]
  },
  {
   "cell_type": "code",
   "execution_count": 17,
   "metadata": {},
   "outputs": [],
   "source": [
    "regions = labels"
   ]
  },
  {
   "cell_type": "code",
   "execution_count": 18,
   "metadata": {},
   "outputs": [
    {
     "data": {
      "text/html": [
       "Displaying chart at <a href='http://localhost:23113/' target='_blank'>http://localhost:23113/</a>"
      ],
      "text/plain": [
       "Displaying chart at http://localhost:23113/"
      ]
     },
     "execution_count": 18,
     "metadata": {},
     "output_type": "execute_result"
    }
   ],
   "source": [
    "#color changing marks\n",
    "histogram_context  = alt.Chart(merged).mark_bar(color = 'lightgray').encode(\n",
    "    alt.X(\"$/kg:Q\", bin=alt.Bin(extent=[0, 5000], step=200), title='Price per kg of goods, $'),\n",
    "    y='count()',\n",
    ")\n",
    "\n",
    "hist = alt.Chart(merged).mark_bar().encode(\n",
    "    alt.X(\"$/kg:Q\", bin=alt.Bin(extent=[0, 5000], step=200)),\n",
    "    y='count()',\n",
    ")\n",
    "\n",
    "\n",
    "\n",
    "rating_radio = alt.binding_radio(options = options, labels=labels)\n",
    "\n",
    "rating_select = alt.selection_single(fields=['region'], bind=rating_radio, name=\"Select\")\n",
    "rating_color_condition = alt.condition(rating_select,\n",
    "#                         alt.Color('region:N'),\n",
    "                      alt.value('#3a9aba'),\n",
    "                      alt.value('lightgray'))\n",
    "\n",
    "hist = hist.add_selection(\n",
    "    rating_select\n",
    ").transform_filter(\n",
    "    rating_select\n",
    ").encode(\n",
    "    color=alt.value('#3a9aba')\n",
    ").properties(title=\"Price per kilogram of produced goods\")\n",
    "\n",
    "(histogram_context + hist).properties(width = 800, height = 400).configure_title(fontSize=25) .configure_axis(\n",
    "    labelFontSize=10,\n",
    "    titleFontSize=17\n",
    ")"
   ]
  },
  {
   "cell_type": "markdown",
   "metadata": {},
   "source": [
    "Наступні візуалізації -- це просто спроби знайти більш ефективне рішення"
   ]
  },
  {
   "cell_type": "code",
   "execution_count": 42,
   "metadata": {},
   "outputs": [
    {
     "data": {
      "text/html": [
       "<div>\n",
       "<style scoped>\n",
       "    .dataframe tbody tr th:only-of-type {\n",
       "        vertical-align: middle;\n",
       "    }\n",
       "\n",
       "    .dataframe tbody tr th {\n",
       "        vertical-align: top;\n",
       "    }\n",
       "\n",
       "    .dataframe thead th {\n",
       "        text-align: right;\n",
       "    }\n",
       "</style>\n",
       "<table border=\"1\" class=\"dataframe\">\n",
       "  <thead>\n",
       "    <tr style=\"text-align: right;\">\n",
       "      <th></th>\n",
       "      <th>country</th>\n",
       "      <th>Quantity</th>\n",
       "      <th>$/kg</th>\n",
       "      <th>id</th>\n",
       "      <th>region</th>\n",
       "    </tr>\n",
       "  </thead>\n",
       "  <tbody>\n",
       "    <tr>\n",
       "      <th>0</th>\n",
       "      <td>Albania</td>\n",
       "      <td>614087.20</td>\n",
       "      <td>124.697525</td>\n",
       "      <td>ALB</td>\n",
       "      <td>Europe</td>\n",
       "    </tr>\n",
       "    <tr>\n",
       "      <th>1</th>\n",
       "      <td>Algeria</td>\n",
       "      <td>22945574.00</td>\n",
       "      <td>1389.680428</td>\n",
       "      <td>DZA</td>\n",
       "      <td>Africa</td>\n",
       "    </tr>\n",
       "    <tr>\n",
       "      <th>2</th>\n",
       "      <td>Andorra</td>\n",
       "      <td>7703481.72</td>\n",
       "      <td>298.298732</td>\n",
       "      <td>AND</td>\n",
       "      <td>Europe</td>\n",
       "    </tr>\n",
       "    <tr>\n",
       "      <th>3</th>\n",
       "      <td>Angola</td>\n",
       "      <td>56236.19</td>\n",
       "      <td>75.029208</td>\n",
       "      <td>AGO</td>\n",
       "      <td>Africa</td>\n",
       "    </tr>\n",
       "    <tr>\n",
       "      <th>4</th>\n",
       "      <td>Antigua and Barbuda</td>\n",
       "      <td>35931.51</td>\n",
       "      <td>462.859807</td>\n",
       "      <td>ATG</td>\n",
       "      <td>Americas</td>\n",
       "    </tr>\n",
       "  </tbody>\n",
       "</table>\n",
       "</div>"
      ],
      "text/plain": [
       "               country     Quantity         $/kg   id    region\n",
       "0              Albania    614087.20   124.697525  ALB    Europe\n",
       "1              Algeria  22945574.00  1389.680428  DZA    Africa\n",
       "2              Andorra   7703481.72   298.298732  AND    Europe\n",
       "3               Angola     56236.19    75.029208  AGO    Africa\n",
       "4  Antigua and Barbuda     35931.51   462.859807  ATG  Americas"
      ]
     },
     "execution_count": 42,
     "metadata": {},
     "output_type": "execute_result"
    }
   ],
   "source": [
    "colls = [7,8,9]\n",
    "n2 = data.iloc[:,colls]\n",
    "n2 = n2.groupby(['country',]).sum().reset_index()\n",
    "merged2 = n2.merge(df)\n",
    "merged2.head()"
   ]
  },
  {
   "cell_type": "code",
   "execution_count": 43,
   "metadata": {},
   "outputs": [
    {
     "data": {
      "text/plain": [
       "(146, 5)"
      ]
     },
     "execution_count": 43,
     "metadata": {},
     "output_type": "execute_result"
    }
   ],
   "source": [
    "merged2.shape"
   ]
  },
  {
   "cell_type": "code",
   "execution_count": 49,
   "metadata": {},
   "outputs": [
    {
     "data": {
      "text/plain": [
       "(145, 5)"
      ]
     },
     "execution_count": 49,
     "metadata": {},
     "output_type": "execute_result"
    }
   ],
   "source": [
    "merged2=merged2[merged2['$/kg']<20000]\n",
    "merged2.shape"
   ]
  },
  {
   "cell_type": "code",
   "execution_count": 51,
   "metadata": {},
   "outputs": [
    {
     "data": {
      "text/html": [
       "Displaying chart at <a href='http://localhost:16234/' target='_blank'>http://localhost:16234/</a>"
      ],
      "text/plain": [
       "Displaying chart at http://localhost:16234/"
      ]
     },
     "execution_count": 51,
     "metadata": {},
     "output_type": "execute_result"
    }
   ],
   "source": [
    "scatterplot = alt.Chart(merged2).mark_point(filled = True).encode(\n",
    "    x = alt.X('Quantity:Q',\n",
    "             \n",
    "#              scale = alt.Scale(type = 'log', base = 2)\n",
    "             ),\n",
    "    y = alt.Y('$/kg:Q',\n",
    "#               scale = alt.Scale(range = [0, 2000])\n",
    "             ),\n",
    "    color = alt.Color('region:N'),\n",
    "    size = alt.Size('$/kg:Q'),\n",
    "    tooltip = alt.Tooltip('country:N')\n",
    ")\n",
    "scatterplot\n"
   ]
  },
  {
   "cell_type": "code",
   "execution_count": null,
   "metadata": {},
   "outputs": [],
   "source": []
  }
 ],
 "metadata": {
  "kernelspec": {
   "display_name": "Python 3",
   "language": "python",
   "name": "python3"
  },
  "language_info": {
   "codemirror_mode": {
    "name": "ipython",
    "version": 3
   },
   "file_extension": ".py",
   "mimetype": "text/x-python",
   "name": "python",
   "nbconvert_exporter": "python",
   "pygments_lexer": "ipython3",
   "version": "3.8.3"
  }
 },
 "nbformat": 4,
 "nbformat_minor": 4
}
