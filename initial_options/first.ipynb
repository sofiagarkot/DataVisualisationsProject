{
 "cells": [
  {
   "cell_type": "markdown",
   "metadata": {},
   "source": [
    "# Запитання 1 : Які країни є експортерами вихідних матеріалів у найбільших обсягах? \n",
    "\n",
    "Найвдалішим рішенням до цього запитання є, на мою думку, інтерактивна мапа з боковим лінійним трендом для кожної з країн. Варіанти, які розглядала:\n",
    "\n",
    "1) лінійний тренд для кожної з країн -- було б складно відслідковувати тренд для кожної з країн та порівнювати 2 між собою ;\n",
    "\n",
    "2) тільки інтерактивна мапа з рухомим повзунком для років -- для порівняння країн у випадку даного представлення потрібно було б щоразу наводити мишкою на певні країни щоб дізнатись їх значення, окрім того складно відслідкувати тренд в межах однієї країни;\n",
    "\n",
    "3) такі варіанти як пай чарт чи гістограма унеможливили б зрозуміле порівняння країн між собою"
   ]
  },
  {
   "cell_type": "code",
   "execution_count": 41,
   "metadata": {},
   "outputs": [
    {
     "data": {
      "text/plain": [
       "RendererRegistry.enable('altair_viewer')"
      ]
     },
     "execution_count": 41,
     "metadata": {},
     "output_type": "execute_result"
    }
   ],
   "source": [
    "import altair as alt\n",
    "import pandas as pd\n",
    "import altair_viewer\n",
    "import warnings\n",
    "warnings.filterwarnings('ignore')\n",
    "alt.renderers.enable('altair_viewer')"
   ]
  },
  {
   "cell_type": "code",
   "execution_count": 42,
   "metadata": {},
   "outputs": [
    {
     "data": {
      "text/html": [
       "<div>\n",
       "<style scoped>\n",
       "    .dataframe tbody tr th:only-of-type {\n",
       "        vertical-align: middle;\n",
       "    }\n",
       "\n",
       "    .dataframe tbody tr th {\n",
       "        vertical-align: top;\n",
       "    }\n",
       "\n",
       "    .dataframe thead th {\n",
       "        text-align: right;\n",
       "    }\n",
       "</style>\n",
       "<table border=\"1\" class=\"dataframe\">\n",
       "  <thead>\n",
       "    <tr style=\"text-align: right;\">\n",
       "      <th></th>\n",
       "      <th>Country or Area</th>\n",
       "      <th>Year</th>\n",
       "      <th>Commodity</th>\n",
       "      <th>Flow</th>\n",
       "      <th>Trade (USD)</th>\n",
       "      <th>Weight (kg)</th>\n",
       "      <th>Quantity Name</th>\n",
       "      <th>Quantity</th>\n",
       "    </tr>\n",
       "  </thead>\n",
       "  <tbody>\n",
       "    <tr>\n",
       "      <th>0</th>\n",
       "      <td>Afghanistan</td>\n",
       "      <td>2018</td>\n",
       "      <td>Cocoa powder, unsweetened</td>\n",
       "      <td>Import</td>\n",
       "      <td>7.247329e+04</td>\n",
       "      <td>8.070000e+04</td>\n",
       "      <td>Weight in kilograms</td>\n",
       "      <td>8.070000e+04</td>\n",
       "    </tr>\n",
       "    <tr>\n",
       "      <th>1</th>\n",
       "      <td>Afghanistan</td>\n",
       "      <td>2018</td>\n",
       "      <td>Chocolate/cocoa food preparations nes</td>\n",
       "      <td>Import</td>\n",
       "      <td>3.281740e+07</td>\n",
       "      <td>5.662823e+06</td>\n",
       "      <td>Weight in kilograms</td>\n",
       "      <td>5.662823e+06</td>\n",
       "    </tr>\n",
       "    <tr>\n",
       "      <th>2</th>\n",
       "      <td>Afghanistan</td>\n",
       "      <td>2018</td>\n",
       "      <td>Chocolate/cocoa food preparations nes</td>\n",
       "      <td>Export</td>\n",
       "      <td>4.327404e+06</td>\n",
       "      <td>0.000000e+00</td>\n",
       "      <td>Weight in kilograms</td>\n",
       "      <td>6.239175e+06</td>\n",
       "    </tr>\n",
       "    <tr>\n",
       "      <th>3</th>\n",
       "      <td>Afghanistan</td>\n",
       "      <td>2018</td>\n",
       "      <td>Chocolate/cocoa food preparations nes</td>\n",
       "      <td>Re-Export</td>\n",
       "      <td>7.452492e+04</td>\n",
       "      <td>0.000000e+00</td>\n",
       "      <td>Weight in kilograms</td>\n",
       "      <td>0.000000e+00</td>\n",
       "    </tr>\n",
       "    <tr>\n",
       "      <th>4</th>\n",
       "      <td>Afghanistan</td>\n",
       "      <td>2016</td>\n",
       "      <td>Chocolate/cocoa food preparations nes</td>\n",
       "      <td>Import</td>\n",
       "      <td>1.568728e+08</td>\n",
       "      <td>2.677301e+07</td>\n",
       "      <td>Weight in kilograms</td>\n",
       "      <td>2.677301e+07</td>\n",
       "    </tr>\n",
       "  </tbody>\n",
       "</table>\n",
       "</div>"
      ],
      "text/plain": [
       "  Country or Area  Year                              Commodity       Flow  \\\n",
       "0     Afghanistan  2018              Cocoa powder, unsweetened     Import   \n",
       "1     Afghanistan  2018  Chocolate/cocoa food preparations nes     Import   \n",
       "2     Afghanistan  2018  Chocolate/cocoa food preparations nes     Export   \n",
       "3     Afghanistan  2018  Chocolate/cocoa food preparations nes  Re-Export   \n",
       "4     Afghanistan  2016  Chocolate/cocoa food preparations nes     Import   \n",
       "\n",
       "    Trade (USD)   Weight (kg)        Quantity Name      Quantity  \n",
       "0  7.247329e+04  8.070000e+04  Weight in kilograms  8.070000e+04  \n",
       "1  3.281740e+07  5.662823e+06  Weight in kilograms  5.662823e+06  \n",
       "2  4.327404e+06  0.000000e+00  Weight in kilograms  6.239175e+06  \n",
       "3  7.452492e+04  0.000000e+00  Weight in kilograms  0.000000e+00  \n",
       "4  1.568728e+08  2.677301e+07  Weight in kilograms  2.677301e+07  "
      ]
     },
     "execution_count": 42,
     "metadata": {},
     "output_type": "execute_result"
    }
   ],
   "source": [
    "data = pd.read_csv('UNdata_Export_20211219_151223778.csv')\n",
    "data.head()"
   ]
  },
  {
   "cell_type": "code",
   "execution_count": 43,
   "metadata": {},
   "outputs": [
    {
     "data": {
      "text/plain": [
       "{'Chocolate and other food preps containing cocoa > 2 k',\n",
       " 'Chocolate, cocoa prep, block/slab/bar, not filled,>2k',\n",
       " 'Chocolate, cocoa preps, block, slab, bar, filled, >2k',\n",
       " 'Chocolate/cocoa food preparations nes',\n",
       " 'Cocoa beans, whole or broken, raw or roasted',\n",
       " 'Cocoa butter, fat, oil',\n",
       " 'Cocoa paste not defatted',\n",
       " 'Cocoa paste wholly or partly defatted',\n",
       " 'Cocoa powder, sweetened',\n",
       " 'Cocoa powder, unsweetened',\n",
       " 'Cocoa shells, husks, skins and waste'}"
      ]
     },
     "execution_count": 43,
     "metadata": {},
     "output_type": "execute_result"
    }
   ],
   "source": [
    "set(data['Commodity'])"
   ]
  },
  {
   "cell_type": "code",
   "execution_count": 44,
   "metadata": {},
   "outputs": [
    {
     "data": {
      "text/plain": [
       "({'Export', 'Import', 'Re-Export', 'Re-Import'}, (65353, 8))"
      ]
     },
     "execution_count": 44,
     "metadata": {},
     "output_type": "execute_result"
    }
   ],
   "source": [
    "set(data['Flow']), data.shape"
   ]
  },
  {
   "cell_type": "code",
   "execution_count": 45,
   "metadata": {},
   "outputs": [
    {
     "data": {
      "text/plain": [
       "(24339, 8)"
      ]
     },
     "execution_count": 45,
     "metadata": {},
     "output_type": "execute_result"
    }
   ],
   "source": [
    "data = data[data['Flow']=='Export']\n",
    "data.shape"
   ]
  },
  {
   "cell_type": "code",
   "execution_count": 46,
   "metadata": {},
   "outputs": [
    {
     "data": {
      "text/html": [
       "<div>\n",
       "<style scoped>\n",
       "    .dataframe tbody tr th:only-of-type {\n",
       "        vertical-align: middle;\n",
       "    }\n",
       "\n",
       "    .dataframe tbody tr th {\n",
       "        vertical-align: top;\n",
       "    }\n",
       "\n",
       "    .dataframe thead th {\n",
       "        text-align: right;\n",
       "    }\n",
       "</style>\n",
       "<table border=\"1\" class=\"dataframe\">\n",
       "  <thead>\n",
       "    <tr style=\"text-align: right;\">\n",
       "      <th></th>\n",
       "      <th>Country or Area</th>\n",
       "      <th>Year</th>\n",
       "      <th>Commodity</th>\n",
       "      <th>Flow</th>\n",
       "      <th>Trade (USD)</th>\n",
       "      <th>Weight (kg)</th>\n",
       "      <th>Quantity Name</th>\n",
       "      <th>Quantity</th>\n",
       "    </tr>\n",
       "  </thead>\n",
       "  <tbody>\n",
       "    <tr>\n",
       "      <th>213</th>\n",
       "      <td>Albania</td>\n",
       "      <td>1997</td>\n",
       "      <td>Cocoa beans, whole or broken, raw or roasted</td>\n",
       "      <td>Export</td>\n",
       "      <td>3447.00</td>\n",
       "      <td>3500.0</td>\n",
       "      <td>Weight in kilograms</td>\n",
       "      <td>3500.0</td>\n",
       "    </tr>\n",
       "    <tr>\n",
       "      <th>842</th>\n",
       "      <td>Angola</td>\n",
       "      <td>2016</td>\n",
       "      <td>Cocoa beans, whole or broken, raw or roasted</td>\n",
       "      <td>Export</td>\n",
       "      <td>25.75</td>\n",
       "      <td>12.0</td>\n",
       "      <td>Weight in kilograms</td>\n",
       "      <td>10.0</td>\n",
       "    </tr>\n",
       "    <tr>\n",
       "      <th>1112</th>\n",
       "      <td>Antigua and Barbuda</td>\n",
       "      <td>2000</td>\n",
       "      <td>Cocoa beans, whole or broken, raw or roasted</td>\n",
       "      <td>Export</td>\n",
       "      <td>465.00</td>\n",
       "      <td>127.0</td>\n",
       "      <td>Weight in kilograms</td>\n",
       "      <td>127.0</td>\n",
       "    </tr>\n",
       "    <tr>\n",
       "      <th>1616</th>\n",
       "      <td>Argentina</td>\n",
       "      <td>1993</td>\n",
       "      <td>Cocoa beans, whole or broken, raw or roasted</td>\n",
       "      <td>Export</td>\n",
       "      <td>420.00</td>\n",
       "      <td>132.0</td>\n",
       "      <td>Weight in kilograms</td>\n",
       "      <td>132.0</td>\n",
       "    </tr>\n",
       "    <tr>\n",
       "      <th>1636</th>\n",
       "      <td>Armenia</td>\n",
       "      <td>2019</td>\n",
       "      <td>Cocoa beans, whole or broken, raw or roasted</td>\n",
       "      <td>Export</td>\n",
       "      <td>13462.21</td>\n",
       "      <td>23806.0</td>\n",
       "      <td>Weight in kilograms</td>\n",
       "      <td>23806.0</td>\n",
       "    </tr>\n",
       "  </tbody>\n",
       "</table>\n",
       "</div>"
      ],
      "text/plain": [
       "          Country or Area  Year                                     Commodity  \\\n",
       "213               Albania  1997  Cocoa beans, whole or broken, raw or roasted   \n",
       "842                Angola  2016  Cocoa beans, whole or broken, raw or roasted   \n",
       "1112  Antigua and Barbuda  2000  Cocoa beans, whole or broken, raw or roasted   \n",
       "1616            Argentina  1993  Cocoa beans, whole or broken, raw or roasted   \n",
       "1636              Armenia  2019  Cocoa beans, whole or broken, raw or roasted   \n",
       "\n",
       "        Flow  Trade (USD)  Weight (kg)        Quantity Name  Quantity  \n",
       "213   Export      3447.00       3500.0  Weight in kilograms    3500.0  \n",
       "842   Export        25.75         12.0  Weight in kilograms      10.0  \n",
       "1112  Export       465.00        127.0  Weight in kilograms     127.0  \n",
       "1616  Export       420.00        132.0  Weight in kilograms     132.0  \n",
       "1636  Export     13462.21      23806.0  Weight in kilograms   23806.0  "
      ]
     },
     "execution_count": 46,
     "metadata": {},
     "output_type": "execute_result"
    }
   ],
   "source": [
    "data = data[data['Commodity']=='Cocoa beans, whole or broken, raw or roasted']\n",
    "data.head()"
   ]
  },
  {
   "cell_type": "code",
   "execution_count": 47,
   "metadata": {},
   "outputs": [
    {
     "data": {
      "text/plain": [
       "(2033, 8)"
      ]
     },
     "execution_count": 47,
     "metadata": {},
     "output_type": "execute_result"
    }
   ],
   "source": [
    "data.shape"
   ]
  },
  {
   "cell_type": "code",
   "execution_count": 48,
   "metadata": {},
   "outputs": [
    {
     "data": {
      "text/plain": [
       "(2033, 5)"
      ]
     },
     "execution_count": 48,
     "metadata": {},
     "output_type": "execute_result"
    }
   ],
   "source": [
    "data = data.groupby(['Country or Area', 'Year' ]).sum().reset_index()\n",
    "data.shape"
   ]
  },
  {
   "cell_type": "code",
   "execution_count": 49,
   "metadata": {},
   "outputs": [
    {
     "data": {
      "text/html": [
       "<div>\n",
       "<style scoped>\n",
       "    .dataframe tbody tr th:only-of-type {\n",
       "        vertical-align: middle;\n",
       "    }\n",
       "\n",
       "    .dataframe tbody tr th {\n",
       "        vertical-align: top;\n",
       "    }\n",
       "\n",
       "    .dataframe thead th {\n",
       "        text-align: right;\n",
       "    }\n",
       "</style>\n",
       "<table border=\"1\" class=\"dataframe\">\n",
       "  <thead>\n",
       "    <tr style=\"text-align: right;\">\n",
       "      <th></th>\n",
       "      <th>Country or Area</th>\n",
       "      <th>Year</th>\n",
       "      <th>Trade (USD)</th>\n",
       "      <th>Weight (kg)</th>\n",
       "      <th>Quantity</th>\n",
       "    </tr>\n",
       "  </thead>\n",
       "  <tbody>\n",
       "    <tr>\n",
       "      <th>0</th>\n",
       "      <td>Albania</td>\n",
       "      <td>1997</td>\n",
       "      <td>3447.00</td>\n",
       "      <td>3500.0</td>\n",
       "      <td>3500.0</td>\n",
       "    </tr>\n",
       "    <tr>\n",
       "      <th>1</th>\n",
       "      <td>Angola</td>\n",
       "      <td>2016</td>\n",
       "      <td>25.75</td>\n",
       "      <td>12.0</td>\n",
       "      <td>10.0</td>\n",
       "    </tr>\n",
       "    <tr>\n",
       "      <th>2</th>\n",
       "      <td>Antigua and Barbuda</td>\n",
       "      <td>2000</td>\n",
       "      <td>465.00</td>\n",
       "      <td>127.0</td>\n",
       "      <td>127.0</td>\n",
       "    </tr>\n",
       "    <tr>\n",
       "      <th>3</th>\n",
       "      <td>Argentina</td>\n",
       "      <td>1993</td>\n",
       "      <td>420.00</td>\n",
       "      <td>132.0</td>\n",
       "      <td>132.0</td>\n",
       "    </tr>\n",
       "    <tr>\n",
       "      <th>4</th>\n",
       "      <td>Armenia</td>\n",
       "      <td>2014</td>\n",
       "      <td>28671.00</td>\n",
       "      <td>15784.0</td>\n",
       "      <td>15784.0</td>\n",
       "    </tr>\n",
       "  </tbody>\n",
       "</table>\n",
       "</div>"
      ],
      "text/plain": [
       "       Country or Area  Year  Trade (USD)  Weight (kg)  Quantity\n",
       "0              Albania  1997      3447.00       3500.0    3500.0\n",
       "1               Angola  2016        25.75         12.0      10.0\n",
       "2  Antigua and Barbuda  2000       465.00        127.0     127.0\n",
       "3            Argentina  1993       420.00        132.0     132.0\n",
       "4              Armenia  2014     28671.00      15784.0   15784.0"
      ]
     },
     "execution_count": 49,
     "metadata": {},
     "output_type": "execute_result"
    }
   ],
   "source": [
    "data.head()"
   ]
  },
  {
   "cell_type": "code",
   "execution_count": 50,
   "metadata": {},
   "outputs": [
    {
     "data": {
      "text/plain": [
       "['Country or Area', 'Year', 'Trade (USD)', 'Weight (kg)', 'Quantity']"
      ]
     },
     "execution_count": 50,
     "metadata": {},
     "output_type": "execute_result"
    }
   ],
   "source": [
    "cols = list(data.columns)\n",
    "cols"
   ]
  },
  {
   "cell_type": "code",
   "execution_count": 51,
   "metadata": {},
   "outputs": [
    {
     "data": {
      "text/html": [
       "<div>\n",
       "<style scoped>\n",
       "    .dataframe tbody tr th:only-of-type {\n",
       "        vertical-align: middle;\n",
       "    }\n",
       "\n",
       "    .dataframe tbody tr th {\n",
       "        vertical-align: top;\n",
       "    }\n",
       "\n",
       "    .dataframe thead th {\n",
       "        text-align: right;\n",
       "    }\n",
       "</style>\n",
       "<table border=\"1\" class=\"dataframe\">\n",
       "  <thead>\n",
       "    <tr style=\"text-align: right;\">\n",
       "      <th></th>\n",
       "      <th>id</th>\n",
       "      <th>name</th>\n",
       "      <th>geometry</th>\n",
       "    </tr>\n",
       "  </thead>\n",
       "  <tbody>\n",
       "    <tr>\n",
       "      <th>0</th>\n",
       "      <td>AFG</td>\n",
       "      <td>Afghanistan</td>\n",
       "      <td>POLYGON ((61.21082 35.65007, 62.23065 35.27066...</td>\n",
       "    </tr>\n",
       "    <tr>\n",
       "      <th>1</th>\n",
       "      <td>AGO</td>\n",
       "      <td>Angola</td>\n",
       "      <td>MULTIPOLYGON (((16.32653 -5.87747, 16.57318 -6...</td>\n",
       "    </tr>\n",
       "    <tr>\n",
       "      <th>2</th>\n",
       "      <td>ALB</td>\n",
       "      <td>Albania</td>\n",
       "      <td>POLYGON ((20.59025 41.85540, 20.46317 41.51509...</td>\n",
       "    </tr>\n",
       "    <tr>\n",
       "      <th>3</th>\n",
       "      <td>ARE</td>\n",
       "      <td>United Arab Emirates</td>\n",
       "      <td>POLYGON ((51.57952 24.24550, 51.75744 24.29407...</td>\n",
       "    </tr>\n",
       "    <tr>\n",
       "      <th>4</th>\n",
       "      <td>ARG</td>\n",
       "      <td>Argentina</td>\n",
       "      <td>MULTIPOLYGON (((-65.50000 -55.20000, -66.45000...</td>\n",
       "    </tr>\n",
       "  </tbody>\n",
       "</table>\n",
       "</div>"
      ],
      "text/plain": [
       "    id                  name  \\\n",
       "0  AFG           Afghanistan   \n",
       "1  AGO                Angola   \n",
       "2  ALB               Albania   \n",
       "3  ARE  United Arab Emirates   \n",
       "4  ARG             Argentina   \n",
       "\n",
       "                                            geometry  \n",
       "0  POLYGON ((61.21082 35.65007, 62.23065 35.27066...  \n",
       "1  MULTIPOLYGON (((16.32653 -5.87747, 16.57318 -6...  \n",
       "2  POLYGON ((20.59025 41.85540, 20.46317 41.51509...  \n",
       "3  POLYGON ((51.57952 24.24550, 51.75744 24.29407...  \n",
       "4  MULTIPOLYGON (((-65.50000 -55.20000, -66.45000...  "
      ]
     },
     "execution_count": 51,
     "metadata": {},
     "output_type": "execute_result"
    }
   ],
   "source": [
    "import geopandas as gpd\n",
    "world = gpd.read_file('world-countries.json')\n",
    "world.head()"
   ]
  },
  {
   "cell_type": "code",
   "execution_count": 52,
   "metadata": {},
   "outputs": [],
   "source": [
    "cols = list(data.columns)\n",
    "cols[0] = 'name'\n",
    "data.columns = cols"
   ]
  },
  {
   "cell_type": "code",
   "execution_count": 53,
   "metadata": {},
   "outputs": [
    {
     "data": {
      "text/html": [
       "<div>\n",
       "<style scoped>\n",
       "    .dataframe tbody tr th:only-of-type {\n",
       "        vertical-align: middle;\n",
       "    }\n",
       "\n",
       "    .dataframe tbody tr th {\n",
       "        vertical-align: top;\n",
       "    }\n",
       "\n",
       "    .dataframe thead th {\n",
       "        text-align: right;\n",
       "    }\n",
       "</style>\n",
       "<table border=\"1\" class=\"dataframe\">\n",
       "  <thead>\n",
       "    <tr style=\"text-align: right;\">\n",
       "      <th></th>\n",
       "      <th>name</th>\n",
       "      <th>Year</th>\n",
       "      <th>Trade (USD)</th>\n",
       "      <th>Weight (kg)</th>\n",
       "      <th>Quantity</th>\n",
       "    </tr>\n",
       "  </thead>\n",
       "  <tbody>\n",
       "    <tr>\n",
       "      <th>0</th>\n",
       "      <td>Albania</td>\n",
       "      <td>1997</td>\n",
       "      <td>3447.00</td>\n",
       "      <td>3500.0</td>\n",
       "      <td>3500.0</td>\n",
       "    </tr>\n",
       "    <tr>\n",
       "      <th>1</th>\n",
       "      <td>Angola</td>\n",
       "      <td>2016</td>\n",
       "      <td>25.75</td>\n",
       "      <td>12.0</td>\n",
       "      <td>10.0</td>\n",
       "    </tr>\n",
       "    <tr>\n",
       "      <th>2</th>\n",
       "      <td>Antigua and Barbuda</td>\n",
       "      <td>2000</td>\n",
       "      <td>465.00</td>\n",
       "      <td>127.0</td>\n",
       "      <td>127.0</td>\n",
       "    </tr>\n",
       "    <tr>\n",
       "      <th>3</th>\n",
       "      <td>Argentina</td>\n",
       "      <td>1993</td>\n",
       "      <td>420.00</td>\n",
       "      <td>132.0</td>\n",
       "      <td>132.0</td>\n",
       "    </tr>\n",
       "    <tr>\n",
       "      <th>4</th>\n",
       "      <td>Armenia</td>\n",
       "      <td>2014</td>\n",
       "      <td>28671.00</td>\n",
       "      <td>15784.0</td>\n",
       "      <td>15784.0</td>\n",
       "    </tr>\n",
       "  </tbody>\n",
       "</table>\n",
       "</div>"
      ],
      "text/plain": [
       "                  name  Year  Trade (USD)  Weight (kg)  Quantity\n",
       "0              Albania  1997      3447.00       3500.0    3500.0\n",
       "1               Angola  2016        25.75         12.0      10.0\n",
       "2  Antigua and Barbuda  2000       465.00        127.0     127.0\n",
       "3            Argentina  1993       420.00        132.0     132.0\n",
       "4              Armenia  2014     28671.00      15784.0   15784.0"
      ]
     },
     "execution_count": 53,
     "metadata": {},
     "output_type": "execute_result"
    }
   ],
   "source": [
    "data.head()"
   ]
  },
  {
   "cell_type": "code",
   "execution_count": 54,
   "metadata": {},
   "outputs": [
    {
     "data": {
      "text/plain": [
       "35"
      ]
     },
     "execution_count": 54,
     "metadata": {},
     "output_type": "execute_result"
    }
   ],
   "source": [
    "len(data[data['Weight (kg)']==0])"
   ]
  },
  {
   "cell_type": "code",
   "execution_count": 55,
   "metadata": {},
   "outputs": [
    {
     "data": {
      "text/plain": [
       "(2033, 5)"
      ]
     },
     "execution_count": 55,
     "metadata": {},
     "output_type": "execute_result"
    }
   ],
   "source": [
    "data.shape"
   ]
  },
  {
   "cell_type": "code",
   "execution_count": 56,
   "metadata": {},
   "outputs": [],
   "source": [
    "j =0 \n",
    "k = 0\n",
    "\n",
    "to_drop = []\n",
    "\n",
    "for i,r in data.iterrows():\n",
    "    if r['Weight (kg)'] == 0 and r['Quantity'] != 0:\n",
    "        j +=1\n",
    "    elif r['Weight (kg)'] == 0 and r['Quantity'] == 0:\n",
    "        k +=1\n",
    "        to_drop.append(i)\n",
    "\n",
    "    \n",
    "    "
   ]
  },
  {
   "cell_type": "code",
   "execution_count": 57,
   "metadata": {
    "scrolled": true
   },
   "outputs": [
    {
     "data": {
      "text/plain": [
       "(8,\n",
       " 27,\n",
       " [32,\n",
       "  251,\n",
       "  252,\n",
       "  285,\n",
       "  353,\n",
       "  354,\n",
       "  355,\n",
       "  356,\n",
       "  541,\n",
       "  899,\n",
       "  1171,\n",
       "  1172,\n",
       "  1268,\n",
       "  1361,\n",
       "  1604,\n",
       "  1606,\n",
       "  1607,\n",
       "  1608,\n",
       "  1645,\n",
       "  1687,\n",
       "  1702,\n",
       "  1712,\n",
       "  1815,\n",
       "  2015,\n",
       "  2016,\n",
       "  2017,\n",
       "  2025])"
      ]
     },
     "execution_count": 57,
     "metadata": {},
     "output_type": "execute_result"
    }
   ],
   "source": [
    "j,k, to_drop"
   ]
  },
  {
   "cell_type": "code",
   "execution_count": 58,
   "metadata": {},
   "outputs": [
    {
     "data": {
      "text/plain": [
       "(2006, 5)"
      ]
     },
     "execution_count": 58,
     "metadata": {},
     "output_type": "execute_result"
    }
   ],
   "source": [
    "data.drop(to_drop, axis=0, inplace=True)\n",
    "data.shape"
   ]
  },
  {
   "cell_type": "code",
   "execution_count": 59,
   "metadata": {
    "scrolled": true
   },
   "outputs": [
    {
     "data": {
      "text/html": [
       "<div>\n",
       "<style scoped>\n",
       "    .dataframe tbody tr th:only-of-type {\n",
       "        vertical-align: middle;\n",
       "    }\n",
       "\n",
       "    .dataframe tbody tr th {\n",
       "        vertical-align: top;\n",
       "    }\n",
       "\n",
       "    .dataframe thead th {\n",
       "        text-align: right;\n",
       "    }\n",
       "</style>\n",
       "<table border=\"1\" class=\"dataframe\">\n",
       "  <thead>\n",
       "    <tr style=\"text-align: right;\">\n",
       "      <th></th>\n",
       "      <th>name</th>\n",
       "      <th>Year</th>\n",
       "      <th>Trade (USD)</th>\n",
       "      <th>Weight (kg)</th>\n",
       "      <th>Quantity</th>\n",
       "    </tr>\n",
       "  </thead>\n",
       "  <tbody>\n",
       "    <tr>\n",
       "      <th>0</th>\n",
       "      <td>Albania</td>\n",
       "      <td>1997</td>\n",
       "      <td>3447.00</td>\n",
       "      <td>3500.0</td>\n",
       "      <td>3500.0</td>\n",
       "    </tr>\n",
       "    <tr>\n",
       "      <th>1</th>\n",
       "      <td>Angola</td>\n",
       "      <td>2016</td>\n",
       "      <td>25.75</td>\n",
       "      <td>12.0</td>\n",
       "      <td>10.0</td>\n",
       "    </tr>\n",
       "    <tr>\n",
       "      <th>2</th>\n",
       "      <td>Antigua and Barbuda</td>\n",
       "      <td>2000</td>\n",
       "      <td>465.00</td>\n",
       "      <td>127.0</td>\n",
       "      <td>127.0</td>\n",
       "    </tr>\n",
       "    <tr>\n",
       "      <th>3</th>\n",
       "      <td>Argentina</td>\n",
       "      <td>1993</td>\n",
       "      <td>420.00</td>\n",
       "      <td>132.0</td>\n",
       "      <td>132.0</td>\n",
       "    </tr>\n",
       "    <tr>\n",
       "      <th>4</th>\n",
       "      <td>Armenia</td>\n",
       "      <td>2014</td>\n",
       "      <td>28671.00</td>\n",
       "      <td>15784.0</td>\n",
       "      <td>15784.0</td>\n",
       "    </tr>\n",
       "  </tbody>\n",
       "</table>\n",
       "</div>"
      ],
      "text/plain": [
       "                  name  Year  Trade (USD)  Weight (kg)  Quantity\n",
       "0              Albania  1997      3447.00       3500.0    3500.0\n",
       "1               Angola  2016        25.75         12.0      10.0\n",
       "2  Antigua and Barbuda  2000       465.00        127.0     127.0\n",
       "3            Argentina  1993       420.00        132.0     132.0\n",
       "4              Armenia  2014     28671.00      15784.0   15784.0"
      ]
     },
     "execution_count": 59,
     "metadata": {},
     "output_type": "execute_result"
    }
   ],
   "source": [
    "data.head()"
   ]
  },
  {
   "cell_type": "code",
   "execution_count": 60,
   "metadata": {
    "scrolled": true
   },
   "outputs": [
    {
     "data": {
      "text/html": [
       "<div>\n",
       "<style scoped>\n",
       "    .dataframe tbody tr th:only-of-type {\n",
       "        vertical-align: middle;\n",
       "    }\n",
       "\n",
       "    .dataframe tbody tr th {\n",
       "        vertical-align: top;\n",
       "    }\n",
       "\n",
       "    .dataframe thead th {\n",
       "        text-align: right;\n",
       "    }\n",
       "</style>\n",
       "<table border=\"1\" class=\"dataframe\">\n",
       "  <thead>\n",
       "    <tr style=\"text-align: right;\">\n",
       "      <th></th>\n",
       "      <th>name</th>\n",
       "      <th>Year</th>\n",
       "      <th>Trade (USD)</th>\n",
       "      <th>Weight (kg)</th>\n",
       "      <th>Quantity</th>\n",
       "    </tr>\n",
       "  </thead>\n",
       "  <tbody>\n",
       "    <tr>\n",
       "      <th>1</th>\n",
       "      <td>Angola</td>\n",
       "      <td>2016</td>\n",
       "      <td>2.575000e+01</td>\n",
       "      <td>1.200000e+01</td>\n",
       "      <td>1.000000e+01</td>\n",
       "    </tr>\n",
       "    <tr>\n",
       "      <th>133</th>\n",
       "      <td>Bolivia (Plurinational State of)</td>\n",
       "      <td>2010</td>\n",
       "      <td>2.378719e+06</td>\n",
       "      <td>6.998000e+05</td>\n",
       "      <td>6.942140e+05</td>\n",
       "    </tr>\n",
       "    <tr>\n",
       "      <th>134</th>\n",
       "      <td>Bolivia (Plurinational State of)</td>\n",
       "      <td>2011</td>\n",
       "      <td>1.916868e+06</td>\n",
       "      <td>5.090251e+05</td>\n",
       "      <td>5.089251e+05</td>\n",
       "    </tr>\n",
       "    <tr>\n",
       "      <th>249</th>\n",
       "      <td>Canada</td>\n",
       "      <td>2015</td>\n",
       "      <td>1.737904e+06</td>\n",
       "      <td>0.000000e+00</td>\n",
       "      <td>1.318557e+06</td>\n",
       "    </tr>\n",
       "    <tr>\n",
       "      <th>250</th>\n",
       "      <td>Canada</td>\n",
       "      <td>2016</td>\n",
       "      <td>2.053515e+06</td>\n",
       "      <td>0.000000e+00</td>\n",
       "      <td>6.782853e+05</td>\n",
       "    </tr>\n",
       "    <tr>\n",
       "      <th>253</th>\n",
       "      <td>Canada</td>\n",
       "      <td>2019</td>\n",
       "      <td>2.256409e+07</td>\n",
       "      <td>0.000000e+00</td>\n",
       "      <td>1.051203e+07</td>\n",
       "    </tr>\n",
       "    <tr>\n",
       "      <th>366</th>\n",
       "      <td>Croatia</td>\n",
       "      <td>2017</td>\n",
       "      <td>7.058100e+04</td>\n",
       "      <td>0.000000e+00</td>\n",
       "      <td>2.659243e+04</td>\n",
       "    </tr>\n",
       "    <tr>\n",
       "      <th>422</th>\n",
       "      <td>Côte d'Ivoire</td>\n",
       "      <td>2016</td>\n",
       "      <td>3.059996e+09</td>\n",
       "      <td>0.000000e+00</td>\n",
       "      <td>1.054963e+09</td>\n",
       "    </tr>\n",
       "    <tr>\n",
       "      <th>423</th>\n",
       "      <td>Côte d'Ivoire</td>\n",
       "      <td>2017</td>\n",
       "      <td>3.505214e+09</td>\n",
       "      <td>0.000000e+00</td>\n",
       "      <td>1.508130e+09</td>\n",
       "    </tr>\n",
       "    <tr>\n",
       "      <th>424</th>\n",
       "      <td>Côte d'Ivoire</td>\n",
       "      <td>2018</td>\n",
       "      <td>3.253067e+09</td>\n",
       "      <td>1.522965e+09</td>\n",
       "      <td>0.000000e+00</td>\n",
       "    </tr>\n",
       "    <tr>\n",
       "      <th>531</th>\n",
       "      <td>Ecuador</td>\n",
       "      <td>2017</td>\n",
       "      <td>5.897502e+08</td>\n",
       "      <td>2.845461e+08</td>\n",
       "      <td>2.818729e+08</td>\n",
       "    </tr>\n",
       "    <tr>\n",
       "      <th>532</th>\n",
       "      <td>Ecuador</td>\n",
       "      <td>2018</td>\n",
       "      <td>6.651773e+08</td>\n",
       "      <td>2.940628e+08</td>\n",
       "      <td>2.897243e+08</td>\n",
       "    </tr>\n",
       "    <tr>\n",
       "      <th>821</th>\n",
       "      <td>Honduras</td>\n",
       "      <td>2017</td>\n",
       "      <td>1.985239e+06</td>\n",
       "      <td>8.682179e+05</td>\n",
       "      <td>8.751582e+05</td>\n",
       "    </tr>\n",
       "    <tr>\n",
       "      <th>1220</th>\n",
       "      <td>New Zealand</td>\n",
       "      <td>2018</td>\n",
       "      <td>8.052468e+03</td>\n",
       "      <td>0.000000e+00</td>\n",
       "      <td>1.803000e+03</td>\n",
       "    </tr>\n",
       "    <tr>\n",
       "      <th>1381</th>\n",
       "      <td>Philippines</td>\n",
       "      <td>2017</td>\n",
       "      <td>8.378805e+06</td>\n",
       "      <td>3.436831e+06</td>\n",
       "      <td>3.094380e+06</td>\n",
       "    </tr>\n",
       "    <tr>\n",
       "      <th>1804</th>\n",
       "      <td>Togo</td>\n",
       "      <td>2015</td>\n",
       "      <td>2.460931e+07</td>\n",
       "      <td>9.721367e+06</td>\n",
       "      <td>9.351302e+06</td>\n",
       "    </tr>\n",
       "    <tr>\n",
       "      <th>1806</th>\n",
       "      <td>Togo</td>\n",
       "      <td>2017</td>\n",
       "      <td>3.906786e+06</td>\n",
       "      <td>4.903103e+06</td>\n",
       "      <td>6.408800e+04</td>\n",
       "    </tr>\n",
       "    <tr>\n",
       "      <th>1913</th>\n",
       "      <td>Uganda</td>\n",
       "      <td>2017</td>\n",
       "      <td>5.420792e+07</td>\n",
       "      <td>2.752824e+07</td>\n",
       "      <td>2.751615e+07</td>\n",
       "    </tr>\n",
       "    <tr>\n",
       "      <th>1914</th>\n",
       "      <td>Uganda</td>\n",
       "      <td>2018</td>\n",
       "      <td>6.469503e+07</td>\n",
       "      <td>3.077040e+07</td>\n",
       "      <td>3.075248e+07</td>\n",
       "    </tr>\n",
       "    <tr>\n",
       "      <th>1982</th>\n",
       "      <td>United Rep. of Tanzania</td>\n",
       "      <td>2018</td>\n",
       "      <td>3.461388e+06</td>\n",
       "      <td>0.000000e+00</td>\n",
       "      <td>3.142299e+06</td>\n",
       "    </tr>\n",
       "  </tbody>\n",
       "</table>\n",
       "</div>"
      ],
      "text/plain": [
       "                                  name  Year   Trade (USD)   Weight (kg)  \\\n",
       "1                               Angola  2016  2.575000e+01  1.200000e+01   \n",
       "133   Bolivia (Plurinational State of)  2010  2.378719e+06  6.998000e+05   \n",
       "134   Bolivia (Plurinational State of)  2011  1.916868e+06  5.090251e+05   \n",
       "249                             Canada  2015  1.737904e+06  0.000000e+00   \n",
       "250                             Canada  2016  2.053515e+06  0.000000e+00   \n",
       "253                             Canada  2019  2.256409e+07  0.000000e+00   \n",
       "366                            Croatia  2017  7.058100e+04  0.000000e+00   \n",
       "422                      Côte d'Ivoire  2016  3.059996e+09  0.000000e+00   \n",
       "423                      Côte d'Ivoire  2017  3.505214e+09  0.000000e+00   \n",
       "424                      Côte d'Ivoire  2018  3.253067e+09  1.522965e+09   \n",
       "531                            Ecuador  2017  5.897502e+08  2.845461e+08   \n",
       "532                            Ecuador  2018  6.651773e+08  2.940628e+08   \n",
       "821                           Honduras  2017  1.985239e+06  8.682179e+05   \n",
       "1220                       New Zealand  2018  8.052468e+03  0.000000e+00   \n",
       "1381                       Philippines  2017  8.378805e+06  3.436831e+06   \n",
       "1804                              Togo  2015  2.460931e+07  9.721367e+06   \n",
       "1806                              Togo  2017  3.906786e+06  4.903103e+06   \n",
       "1913                            Uganda  2017  5.420792e+07  2.752824e+07   \n",
       "1914                            Uganda  2018  6.469503e+07  3.077040e+07   \n",
       "1982           United Rep. of Tanzania  2018  3.461388e+06  0.000000e+00   \n",
       "\n",
       "          Quantity  \n",
       "1     1.000000e+01  \n",
       "133   6.942140e+05  \n",
       "134   5.089251e+05  \n",
       "249   1.318557e+06  \n",
       "250   6.782853e+05  \n",
       "253   1.051203e+07  \n",
       "366   2.659243e+04  \n",
       "422   1.054963e+09  \n",
       "423   1.508130e+09  \n",
       "424   0.000000e+00  \n",
       "531   2.818729e+08  \n",
       "532   2.897243e+08  \n",
       "821   8.751582e+05  \n",
       "1220  1.803000e+03  \n",
       "1381  3.094380e+06  \n",
       "1804  9.351302e+06  \n",
       "1806  6.408800e+04  \n",
       "1913  2.751615e+07  \n",
       "1914  3.075248e+07  \n",
       "1982  3.142299e+06  "
      ]
     },
     "execution_count": 60,
     "metadata": {},
     "output_type": "execute_result"
    }
   ],
   "source": [
    "data[data['Weight (kg)'] != data['Quantity']]"
   ]
  },
  {
   "cell_type": "code",
   "execution_count": 61,
   "metadata": {},
   "outputs": [
    {
     "data": {
      "text/plain": [
       "(0.0, 5876131524.0)"
      ]
     },
     "execution_count": 61,
     "metadata": {},
     "output_type": "execute_result"
    }
   ],
   "source": [
    "min(data['Weight (kg)']), max(data['Weight (kg)'])"
   ]
  },
  {
   "cell_type": "code",
   "execution_count": 62,
   "metadata": {},
   "outputs": [
    {
     "data": {
      "text/plain": [
       "[424]"
      ]
     },
     "execution_count": 62,
     "metadata": {},
     "output_type": "execute_result"
    }
   ],
   "source": [
    "to_drop2 = [i for i,r in data[data['Quantity']==0.0].iterrows()]\n",
    "to_drop2"
   ]
  },
  {
   "cell_type": "code",
   "execution_count": 63,
   "metadata": {},
   "outputs": [],
   "source": [
    "to_drop2 = [i for i,r in data[data['Quantity']==0.0].iterrows()]\n",
    "data.drop(to_drop2, inplace=True)"
   ]
  },
  {
   "cell_type": "code",
   "execution_count": 64,
   "metadata": {},
   "outputs": [
    {
     "data": {
      "text/html": [
       "<div>\n",
       "<style scoped>\n",
       "    .dataframe tbody tr th:only-of-type {\n",
       "        vertical-align: middle;\n",
       "    }\n",
       "\n",
       "    .dataframe tbody tr th {\n",
       "        vertical-align: top;\n",
       "    }\n",
       "\n",
       "    .dataframe thead th {\n",
       "        text-align: right;\n",
       "    }\n",
       "</style>\n",
       "<table border=\"1\" class=\"dataframe\">\n",
       "  <thead>\n",
       "    <tr style=\"text-align: right;\">\n",
       "      <th></th>\n",
       "      <th>name</th>\n",
       "      <th>Year</th>\n",
       "      <th>Trade (USD)</th>\n",
       "      <th>Weight (kg)</th>\n",
       "      <th>Quantity</th>\n",
       "    </tr>\n",
       "  </thead>\n",
       "  <tbody>\n",
       "    <tr>\n",
       "      <th>249</th>\n",
       "      <td>Canada</td>\n",
       "      <td>2015</td>\n",
       "      <td>1.737904e+06</td>\n",
       "      <td>0.0</td>\n",
       "      <td>1.318557e+06</td>\n",
       "    </tr>\n",
       "    <tr>\n",
       "      <th>250</th>\n",
       "      <td>Canada</td>\n",
       "      <td>2016</td>\n",
       "      <td>2.053515e+06</td>\n",
       "      <td>0.0</td>\n",
       "      <td>6.782853e+05</td>\n",
       "    </tr>\n",
       "    <tr>\n",
       "      <th>253</th>\n",
       "      <td>Canada</td>\n",
       "      <td>2019</td>\n",
       "      <td>2.256409e+07</td>\n",
       "      <td>0.0</td>\n",
       "      <td>1.051203e+07</td>\n",
       "    </tr>\n",
       "    <tr>\n",
       "      <th>366</th>\n",
       "      <td>Croatia</td>\n",
       "      <td>2017</td>\n",
       "      <td>7.058100e+04</td>\n",
       "      <td>0.0</td>\n",
       "      <td>2.659243e+04</td>\n",
       "    </tr>\n",
       "    <tr>\n",
       "      <th>422</th>\n",
       "      <td>Côte d'Ivoire</td>\n",
       "      <td>2016</td>\n",
       "      <td>3.059996e+09</td>\n",
       "      <td>0.0</td>\n",
       "      <td>1.054963e+09</td>\n",
       "    </tr>\n",
       "    <tr>\n",
       "      <th>423</th>\n",
       "      <td>Côte d'Ivoire</td>\n",
       "      <td>2017</td>\n",
       "      <td>3.505214e+09</td>\n",
       "      <td>0.0</td>\n",
       "      <td>1.508130e+09</td>\n",
       "    </tr>\n",
       "    <tr>\n",
       "      <th>1220</th>\n",
       "      <td>New Zealand</td>\n",
       "      <td>2018</td>\n",
       "      <td>8.052468e+03</td>\n",
       "      <td>0.0</td>\n",
       "      <td>1.803000e+03</td>\n",
       "    </tr>\n",
       "    <tr>\n",
       "      <th>1982</th>\n",
       "      <td>United Rep. of Tanzania</td>\n",
       "      <td>2018</td>\n",
       "      <td>3.461388e+06</td>\n",
       "      <td>0.0</td>\n",
       "      <td>3.142299e+06</td>\n",
       "    </tr>\n",
       "  </tbody>\n",
       "</table>\n",
       "</div>"
      ],
      "text/plain": [
       "                         name  Year   Trade (USD)  Weight (kg)      Quantity\n",
       "249                    Canada  2015  1.737904e+06          0.0  1.318557e+06\n",
       "250                    Canada  2016  2.053515e+06          0.0  6.782853e+05\n",
       "253                    Canada  2019  2.256409e+07          0.0  1.051203e+07\n",
       "366                   Croatia  2017  7.058100e+04          0.0  2.659243e+04\n",
       "422             Côte d'Ivoire  2016  3.059996e+09          0.0  1.054963e+09\n",
       "423             Côte d'Ivoire  2017  3.505214e+09          0.0  1.508130e+09\n",
       "1220              New Zealand  2018  8.052468e+03          0.0  1.803000e+03\n",
       "1982  United Rep. of Tanzania  2018  3.461388e+06          0.0  3.142299e+06"
      ]
     },
     "execution_count": 64,
     "metadata": {},
     "output_type": "execute_result"
    }
   ],
   "source": [
    "data[data['Weight (kg)']==0.0]"
   ]
  },
  {
   "cell_type": "markdown",
   "metadata": {},
   "source": [
    "# Merging data\n"
   ]
  },
  {
   "cell_type": "code",
   "execution_count": 65,
   "metadata": {},
   "outputs": [
    {
     "data": {
      "text/plain": [
       "(2005, 7)"
      ]
     },
     "execution_count": 65,
     "metadata": {},
     "output_type": "execute_result"
    }
   ],
   "source": [
    "merged = world.merge(data, how='right')\n",
    "merged.shape"
   ]
  },
  {
   "cell_type": "code",
   "execution_count": 66,
   "metadata": {},
   "outputs": [
    {
     "data": {
      "text/html": [
       "<div>\n",
       "<style scoped>\n",
       "    .dataframe tbody tr th:only-of-type {\n",
       "        vertical-align: middle;\n",
       "    }\n",
       "\n",
       "    .dataframe tbody tr th {\n",
       "        vertical-align: top;\n",
       "    }\n",
       "\n",
       "    .dataframe thead th {\n",
       "        text-align: right;\n",
       "    }\n",
       "</style>\n",
       "<table border=\"1\" class=\"dataframe\">\n",
       "  <thead>\n",
       "    <tr style=\"text-align: right;\">\n",
       "      <th></th>\n",
       "      <th>id</th>\n",
       "      <th>name</th>\n",
       "      <th>geometry</th>\n",
       "      <th>Year</th>\n",
       "      <th>Trade (USD)</th>\n",
       "      <th>Weight (kg)</th>\n",
       "      <th>Quantity</th>\n",
       "    </tr>\n",
       "  </thead>\n",
       "  <tbody>\n",
       "    <tr>\n",
       "      <th>0</th>\n",
       "      <td>AGO</td>\n",
       "      <td>Angola</td>\n",
       "      <td>MULTIPOLYGON (((16.32653 -5.87747, 16.57318 -6...</td>\n",
       "      <td>2016</td>\n",
       "      <td>25.75</td>\n",
       "      <td>12.0</td>\n",
       "      <td>10.0</td>\n",
       "    </tr>\n",
       "    <tr>\n",
       "      <th>1</th>\n",
       "      <td>ALB</td>\n",
       "      <td>Albania</td>\n",
       "      <td>POLYGON ((20.59025 41.85540, 20.46317 41.51509...</td>\n",
       "      <td>1997</td>\n",
       "      <td>3447.00</td>\n",
       "      <td>3500.0</td>\n",
       "      <td>3500.0</td>\n",
       "    </tr>\n",
       "    <tr>\n",
       "      <th>2</th>\n",
       "      <td>ARE</td>\n",
       "      <td>United Arab Emirates</td>\n",
       "      <td>POLYGON ((51.57952 24.24550, 51.75744 24.29407...</td>\n",
       "      <td>2005</td>\n",
       "      <td>10769.00</td>\n",
       "      <td>1150.0</td>\n",
       "      <td>1150.0</td>\n",
       "    </tr>\n",
       "    <tr>\n",
       "      <th>3</th>\n",
       "      <td>ARE</td>\n",
       "      <td>United Arab Emirates</td>\n",
       "      <td>POLYGON ((51.57952 24.24550, 51.75744 24.29407...</td>\n",
       "      <td>2007</td>\n",
       "      <td>4098.00</td>\n",
       "      <td>5050.0</td>\n",
       "      <td>5050.0</td>\n",
       "    </tr>\n",
       "    <tr>\n",
       "      <th>4</th>\n",
       "      <td>ARE</td>\n",
       "      <td>United Arab Emirates</td>\n",
       "      <td>POLYGON ((51.57952 24.24550, 51.75744 24.29407...</td>\n",
       "      <td>2008</td>\n",
       "      <td>19409.00</td>\n",
       "      <td>12570.0</td>\n",
       "      <td>12570.0</td>\n",
       "    </tr>\n",
       "  </tbody>\n",
       "</table>\n",
       "</div>"
      ],
      "text/plain": [
       "    id                  name  \\\n",
       "0  AGO                Angola   \n",
       "1  ALB               Albania   \n",
       "2  ARE  United Arab Emirates   \n",
       "3  ARE  United Arab Emirates   \n",
       "4  ARE  United Arab Emirates   \n",
       "\n",
       "                                            geometry  Year  Trade (USD)  \\\n",
       "0  MULTIPOLYGON (((16.32653 -5.87747, 16.57318 -6...  2016        25.75   \n",
       "1  POLYGON ((20.59025 41.85540, 20.46317 41.51509...  1997      3447.00   \n",
       "2  POLYGON ((51.57952 24.24550, 51.75744 24.29407...  2005     10769.00   \n",
       "3  POLYGON ((51.57952 24.24550, 51.75744 24.29407...  2007      4098.00   \n",
       "4  POLYGON ((51.57952 24.24550, 51.75744 24.29407...  2008     19409.00   \n",
       "\n",
       "   Weight (kg)  Quantity  \n",
       "0         12.0      10.0  \n",
       "1       3500.0    3500.0  \n",
       "2       1150.0    1150.0  \n",
       "3       5050.0    5050.0  \n",
       "4      12570.0   12570.0  "
      ]
     },
     "execution_count": 66,
     "metadata": {},
     "output_type": "execute_result"
    }
   ],
   "source": [
    "merged.head()"
   ]
  },
  {
   "cell_type": "code",
   "execution_count": 67,
   "metadata": {},
   "outputs": [
    {
     "data": {
      "text/plain": [
       "False"
      ]
     },
     "execution_count": 67,
     "metadata": {},
     "output_type": "execute_result"
    }
   ],
   "source": [
    "'USA' in merged['id']"
   ]
  },
  {
   "cell_type": "code",
   "execution_count": 68,
   "metadata": {},
   "outputs": [],
   "source": [
    "merged['$/kg']=merged['Trade (USD)']/merged['Quantity']"
   ]
  },
  {
   "cell_type": "code",
   "execution_count": 69,
   "metadata": {
    "scrolled": true
   },
   "outputs": [
    {
     "data": {
      "text/html": [
       "Displaying chart at <a href='http://localhost:19857/' target='_blank'>http://localhost:19857/</a>"
      ],
      "text/plain": [
       "Displaying chart at http://localhost:19857/"
      ]
     },
     "execution_count": 69,
     "metadata": {},
     "output_type": "execute_result"
    }
   ],
   "source": [
    "# input_dropdown = alt.binding_select(options = merged_1.Year.unique())\n",
    "# select_region = alt.selection_single(fields = ['Year'], bind = input_dropdown, name='Choose')\n",
    "\n",
    "\n",
    "alt.Chart(merged, title='Quantity of exported material by country').project(type = 'equalEarth'\n",
    "    ).mark_geoshape().encode(\n",
    "#     color = '#d3d3d3',\n",
    ").properties(width = 950, height = 500, padding = 25).configure_title(fontSize=20)\n",
    "\n",
    "\n",
    "# alt.Chart(merged, title='Quantaty of exported material by country').project(type = 'equalEarth').mark_geoshape().encode(\n",
    "#     color = alt.Color('$/kg:Q', title='Price for kilo of exported goods'),\n",
    "#     tooltip = [\n",
    "#         alt.Tooltip('name:N'),\n",
    "#         alt.Tooltip('$/kg:Q', title='Price for kilo of exported goods'),\n",
    "#         alt.Tooltip('Commodity:O', title='Commodity')\n",
    "#     ]\n",
    "# ).transform_filter(\n",
    "#     select_region\n",
    "# ).add_selection(\n",
    "#     select_region).properties(width = 950, height = 500, padding = 25).configure_title(fontSize=20)"
   ]
  },
  {
   "cell_type": "markdown",
   "metadata": {},
   "source": [
    "Так як фільтрація даних по рядках, що відповідають сирим вихідним матеріалам призводить до великої втрати даних, я вирішила дещо модифікувати запитання, та порівнювати країни між собою в межах будь-якої експортованої продукції"
   ]
  },
  {
   "cell_type": "code",
   "execution_count": 70,
   "metadata": {
    "scrolled": true
   },
   "outputs": [
    {
     "data": {
      "text/html": [
       "<div>\n",
       "<style scoped>\n",
       "    .dataframe tbody tr th:only-of-type {\n",
       "        vertical-align: middle;\n",
       "    }\n",
       "\n",
       "    .dataframe tbody tr th {\n",
       "        vertical-align: top;\n",
       "    }\n",
       "\n",
       "    .dataframe thead th {\n",
       "        text-align: right;\n",
       "    }\n",
       "</style>\n",
       "<table border=\"1\" class=\"dataframe\">\n",
       "  <thead>\n",
       "    <tr style=\"text-align: right;\">\n",
       "      <th></th>\n",
       "      <th>id</th>\n",
       "      <th>name</th>\n",
       "      <th>geometry</th>\n",
       "      <th>Year</th>\n",
       "      <th>Trade (USD)</th>\n",
       "      <th>Weight (kg)</th>\n",
       "      <th>Quantity</th>\n",
       "      <th>$/kg</th>\n",
       "    </tr>\n",
       "  </thead>\n",
       "  <tbody>\n",
       "    <tr>\n",
       "      <th>0</th>\n",
       "      <td>AFG</td>\n",
       "      <td>Afghanistan</td>\n",
       "      <td>POLYGON ((61.21082 35.65007, 62.23065 35.27066...</td>\n",
       "      <td>2018.0</td>\n",
       "      <td>4327404.33</td>\n",
       "      <td>0.00</td>\n",
       "      <td>6239175.12</td>\n",
       "      <td>0.693586</td>\n",
       "    </tr>\n",
       "    <tr>\n",
       "      <th>1</th>\n",
       "      <td>AGO</td>\n",
       "      <td>Angola</td>\n",
       "      <td>MULTIPOLYGON (((16.32653 -5.87747, 16.57318 -6...</td>\n",
       "      <td>2015.0</td>\n",
       "      <td>22584.41</td>\n",
       "      <td>22364.94</td>\n",
       "      <td>9532.10</td>\n",
       "      <td>2.369301</td>\n",
       "    </tr>\n",
       "    <tr>\n",
       "      <th>2</th>\n",
       "      <td>AGO</td>\n",
       "      <td>Angola</td>\n",
       "      <td>MULTIPOLYGON (((16.32653 -5.87747, 16.57318 -6...</td>\n",
       "      <td>2016.0</td>\n",
       "      <td>102241.55</td>\n",
       "      <td>58593.00</td>\n",
       "      <td>35176.77</td>\n",
       "      <td>2.906508</td>\n",
       "    </tr>\n",
       "    <tr>\n",
       "      <th>3</th>\n",
       "      <td>AGO</td>\n",
       "      <td>Angola</td>\n",
       "      <td>MULTIPOLYGON (((16.32653 -5.87747, 16.57318 -6...</td>\n",
       "      <td>2017.0</td>\n",
       "      <td>139118.32</td>\n",
       "      <td>18036.00</td>\n",
       "      <td>3290.32</td>\n",
       "      <td>42.281091</td>\n",
       "    </tr>\n",
       "    <tr>\n",
       "      <th>4</th>\n",
       "      <td>AGO</td>\n",
       "      <td>Angola</td>\n",
       "      <td>MULTIPOLYGON (((16.32653 -5.87747, 16.57318 -6...</td>\n",
       "      <td>2018.0</td>\n",
       "      <td>15192.46</td>\n",
       "      <td>8237.00</td>\n",
       "      <td>8237.00</td>\n",
       "      <td>1.844417</td>\n",
       "    </tr>\n",
       "  </tbody>\n",
       "</table>\n",
       "</div>"
      ],
      "text/plain": [
       "    id         name                                           geometry  \\\n",
       "0  AFG  Afghanistan  POLYGON ((61.21082 35.65007, 62.23065 35.27066...   \n",
       "1  AGO       Angola  MULTIPOLYGON (((16.32653 -5.87747, 16.57318 -6...   \n",
       "2  AGO       Angola  MULTIPOLYGON (((16.32653 -5.87747, 16.57318 -6...   \n",
       "3  AGO       Angola  MULTIPOLYGON (((16.32653 -5.87747, 16.57318 -6...   \n",
       "4  AGO       Angola  MULTIPOLYGON (((16.32653 -5.87747, 16.57318 -6...   \n",
       "\n",
       "     Year  Trade (USD)  Weight (kg)    Quantity       $/kg  \n",
       "0  2018.0   4327404.33         0.00  6239175.12   0.693586  \n",
       "1  2015.0     22584.41     22364.94     9532.10   2.369301  \n",
       "2  2016.0    102241.55     58593.00    35176.77   2.906508  \n",
       "3  2017.0    139118.32     18036.00     3290.32  42.281091  \n",
       "4  2018.0     15192.46      8237.00     8237.00   1.844417  "
      ]
     },
     "execution_count": 70,
     "metadata": {},
     "output_type": "execute_result"
    }
   ],
   "source": [
    "data = pd.read_csv('UNdata_Export_20211219_151223778.csv')\n",
    "data['Country or Area'][data['Country or Area']=='USA'] = 'United States of America'\n",
    "data['Country or Area'][data['Country or Area']=='Viet Nam'] =  'Vietnam'\n",
    "data['Country or Area'][data['Country or Area']=='Russian Federation'] =  'Russia'\n",
    "data['Country or Area'][data['Country or Area']=='Czech Rep.'] =  'Czech Republic'\n",
    "data['Country or Area'][data['Country or Area']=='Congo'] =  'Democratic Republic of the Congo'\n",
    "data['Country or Area'][data['Country or Area']=='Rep. of Moldova'] = 'Moldova'\n",
    "data['Country or Area'][data['Country or Area']=='Bahamas'] = 'The Bahamas'\n",
    "data['Country or Area'][data['Country or Area']=='Dominican Rep.'] = 'Dominican Republic'\n",
    "data['Country or Area'][data['Country or Area']=='United Rep. of Tanzania'] =  'United Republic of Tanzania'\n",
    "data['Country or Area'][data['Country or Area']=='Bolivia (Plurinational State of)'] =  'Bolivia'\n",
    "data['Country or Area'][data['Country or Area']=='Serbia'] =  'Republic of Serbia'\n",
    "data['Country or Area'][data['Country or Area']==\"Lao People's Dem. Rep.\"] =  'Laos'\n",
    "\n",
    "data = data[data['Flow']=='Export']\n",
    "data = data.groupby(['Country or Area', 'Year' ]).sum().reset_index()\n",
    "cols = list(data.columns)\n",
    "cols[0] = 'name'\n",
    "data.columns = cols\n",
    "\n",
    "\n",
    "world = gpd.read_file('world-countries.json')\n",
    "\n",
    "j =0 \n",
    "k = 0\n",
    "\n",
    "to_drop = []\n",
    "\n",
    "for i,r in data.iterrows():\n",
    "    if r['Weight (kg)'] == 0 and r['Quantity'] != 0:\n",
    "        j +=1\n",
    "    elif r['Weight (kg)'] == 0 and r['Quantity'] == 0:\n",
    "        k +=1\n",
    "        to_drop.append(i)\n",
    "\n",
    "data.drop(to_drop, axis=0, inplace=True)\n",
    "\n",
    "to_drop2 = [i for i,r in data[data['Quantity']==0.0].iterrows()]\n",
    "data.drop(to_drop2, inplace=True)\n",
    "merged = world.merge(data, how='outer')\n",
    "merged['$/kg']=merged['Trade (USD)']/merged['Quantity']\n",
    "merged.head()"
   ]
  },
  {
   "cell_type": "code",
   "execution_count": 89,
   "metadata": {
    "scrolled": true
   },
   "outputs": [],
   "source": [
    "options=[None]\n",
    "options.extend(sorted(merged.name.unique().tolist()))\n",
    "labels=['All']\n",
    "labels.extend(sorted(merged.name.unique().tolist()))\n",
    "\n",
    "select_region_map = alt.selection_single(on = 'click', fields = ['name'], nearest = False, empty = 'all')\n",
    "select_region_lines = alt.selection_single(on = 'click', fields = ['name'], nearest = False, empty = 'all')\n",
    "\n",
    "\n",
    "input_dropdown = alt.binding_select(options = options, labels=labels)\n",
    "select_lines = alt.selection_single(fields = ['name'], bind = input_dropdown, name='Choose')\n",
    "\n",
    "slider = alt.binding_range(name='Year:', min=min(merged['Year']), max=max(merged['Year']), step=1)\n",
    "select_region =alt.selection_single(name=\"SelectorName\", fields=['Year'],\n",
    "                            bind=slider, init={\"Year\": 2010})\n",
    "\n",
    "one = alt.Chart(merged, title='Quantity of exported material by country').project(type = 'equalEarth'\n",
    "    ).mark_geoshape().encode(\n",
    "    color = alt.value('lightgrey')\n",
    ")\n",
    "\n",
    "merged = merged[merged['Quantity'] < 1000000000]\n",
    "min_q = min(merged['Quantity'])\n",
    "max_q = max(merged['Quantity'])\n",
    "\n",
    "two = alt.Chart(merged, title='Quantaty of exported material by country').project(type = 'equalEarth').mark_geoshape().encode(\n",
    "#     color = alt.Color('Quantity:Q', title='Quantity of exported goods, kg')\n",
    "    color = alt.Color('Quantity:Q', scale = alt.Scale(scheme = 'redyellowblue',\n",
    "                    domain = [min_q, max_q],reverse=True),  title='Quantity of exported goods, kg'),\n",
    "    tooltip = [\n",
    "        alt.Tooltip('name:N'),\n",
    "        alt.Tooltip('$/kg:Q', title='Price for kilo of exported goods', format=\"$,.2f\",\n",
    "                   labelExpr='datum.value+\"$\"')\n",
    "    ],\n",
    "    opacity = alt.condition((select_region_map) | (select_lines) |(select_region_lines), \n",
    "                            alt.value(1), alt.value(0.6)), \n",
    ").transform_filter(\n",
    "    select_region\n",
    ").add_selection(\n",
    "    select_region)\n",
    "\n",
    "map__ = (one+two).add_selection(\n",
    "    select_region_map\n",
    ").properties(width = 800, height = 400)\n",
    "# .interactive()\n"
   ]
  },
  {
   "cell_type": "code",
   "execution_count": 90,
   "metadata": {},
   "outputs": [
    {
     "data": {
      "text/html": [
       "Displaying chart at <a href='http://localhost:19857/' target='_blank'>http://localhost:19857/</a>"
      ],
      "text/plain": [
       "Displaying chart at http://localhost:19857/"
      ]
     },
     "execution_count": 90,
     "metadata": {},
     "output_type": "execute_result"
    }
   ],
   "source": [
    "# trend throughout the years\n",
    "data['Year'] = data['Year'].astype(str)\n",
    "trend_linear = alt.Chart(data, title='Export goods trends through all the years').mark_line().encode(\n",
    "    x = alt.X(field='Year', \n",
    "              type='temporal'\n",
    "             ),\n",
    "    y = alt.Y('Quantity:Q', title='Quantity of goods exported, kg'),\n",
    "    detail = alt.Detail('name:N'),\n",
    "    tooltip = [\n",
    "        alt.Tooltip('name:O', title='Country name')\n",
    "    ],\n",
    "    size = alt.condition(\n",
    "    (select_region_map) | (select_lines) | (select_region_lines),\n",
    "    alt.value(3),\n",
    "    alt.value(0.2)),\n",
    "    color = alt.condition((select_lines) | (select_region_map) |(select_region_lines), \n",
    "#                           alt.value('#476930'), \n",
    "                          alt.Color('name:N', legend=None),\n",
    "                          alt.value(\"darkgrey\"))\n",
    ").add_selection(select_lines\n",
    ").add_selection(select_region_lines\n",
    ").transform_filter( (select_lines) | (select_region_map) | (select_region_lines)\n",
    ").properties(width = 600, height = 400)\n",
    "\n",
    "alt.hconcat(map__, \n",
    "            trend_linear\n",
    "           ).configure_view(\n",
    "    strokeWidth=0\n",
    ").configure_title(fontSize=20).configure_axis(\n",
    "    labelFontSize=10,\n",
    "    titleFontSize=17\n",
    ").configure_legend(orient='bottom')"
   ]
  },
  {
   "cell_type": "markdown",
   "metadata": {},
   "source": [
    "Багатолінійний графік справа є збереженим навіть під час взаємодії з картою для того, щоб могти порівняти тренди для двох країн: однієї: виділеної кліком на самому графіку, та іншої, виділеної кліком на карті. Таким чином можна зафіксувати одну країну на графіку і порівнювати динамічно з кількома в залежності від розташування на мапі. Можна піти і зворотним шляхом: зафіксувати країну на графіку з випадаючого вікна і порівнювати з країною вибору на карті. Ідея для покращення -- динамічно додавати легенду в залежності від вибору країн, проте реалізація додавання легенди в бібліотеці altair унеможливлює появу легенди після кліку, а якщо залишати легенду за дефолтними параметрами, то вона займатиме значиний обсяг візуалізації, і буде просто непотрібною (коли відображаються лінійні тренди для усіх країн). Я знаю, що в такому випадку користувачу доводитиметься наводити на лінію для показу назви конкретної країни, проте кращого рішення я не знайшла.\n",
    "\n",
    "Гістограма була б і справді чудовим рішенням замість лінійного графіку, проте також не вирішує проблеми багатолінійності, а тренд зчитується складніше. "
   ]
  },
  {
   "cell_type": "code",
   "execution_count": 92,
   "metadata": {},
   "outputs": [
    {
     "data": {
      "text/html": [
       "Displaying chart at <a href='http://localhost:19857/' target='_blank'>http://localhost:19857/</a>"
      ],
      "text/plain": [
       "Displaying chart at http://localhost:19857/"
      ]
     },
     "execution_count": 92,
     "metadata": {},
     "output_type": "execute_result"
    }
   ],
   "source": [
    "\n",
    "histogram_context = alt.Chart(data).mark_bar(color = 'lightgray').encode(\n",
    "    x = alt.X(field='Year', \n",
    "              type='temporal'\n",
    "             ),\n",
    "    y = alt.Y('Quantity:Q', title='Quantity of goods exported, kg'))\n",
    "\n",
    "hist = alt.Chart(data).mark_bar(color = 'lightgray').encode(\n",
    "    x = alt.X(field='Year', \n",
    "              type='temporal'\n",
    "             ),\n",
    "    y = alt.Y('Quantity:Q', title='Quantity of goods exported, kg'),\n",
    "    detail = alt.Detail('name:N'),\n",
    "    tooltip = [\n",
    "        alt.Tooltip('name:O', title='Country name')\n",
    "    ],\n",
    "    color = alt.condition((select_lines) | (select_region_map) |(select_region_lines), \n",
    "#                           alt.value('#476930'), \n",
    "                          alt.Color('name:N', legend=None),\n",
    "                          alt.value(\"darkgrey\"))\n",
    ").add_selection(select_lines\n",
    ").add_selection(select_region_lines\n",
    ").transform_filter( (select_lines) | (select_region_map) | (select_region_lines)\n",
    ").properties(width = 600, height = 400)\n",
    "\n",
    "histogram = (histogram_context+hist)\n",
    "alt.hconcat(map__, \n",
    "            histogram\n",
    "           ).configure_view(\n",
    "    strokeWidth=0\n",
    ").configure_title(fontSize=17).configure_axis(\n",
    "    labelFontSize=10,\n",
    "    titleFontSize=17\n",
    ").configure_legend(orient='bottom', labelLimit=2)"
   ]
  },
  {
   "cell_type": "code",
   "execution_count": null,
   "metadata": {},
   "outputs": [],
   "source": []
  },
  {
   "cell_type": "code",
   "execution_count": null,
   "metadata": {},
   "outputs": [],
   "source": []
  },
  {
   "cell_type": "code",
   "execution_count": null,
   "metadata": {},
   "outputs": [],
   "source": []
  },
  {
   "cell_type": "code",
   "execution_count": null,
   "metadata": {},
   "outputs": [],
   "source": []
  },
  {
   "cell_type": "code",
   "execution_count": null,
   "metadata": {},
   "outputs": [],
   "source": []
  }
 ],
 "metadata": {
  "kernelspec": {
   "display_name": "Python 3",
   "language": "python",
   "name": "python3"
  },
  "language_info": {
   "codemirror_mode": {
    "name": "ipython",
    "version": 3
   },
   "file_extension": ".py",
   "mimetype": "text/x-python",
   "name": "python",
   "nbconvert_exporter": "python",
   "pygments_lexer": "ipython3",
   "version": "3.8.3"
  }
 },
 "nbformat": 4,
 "nbformat_minor": 4
}
