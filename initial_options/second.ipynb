{
 "cells": [
  {
   "cell_type": "markdown",
   "metadata": {},
   "source": [
    "# Запитання: Як змінювались обсяги виробництва різних типів матеріалів впродовж даних років?\n",
    "\n"
   ]
  },
  {
   "cell_type": "code",
   "execution_count": 1,
   "metadata": {},
   "outputs": [
    {
     "data": {
      "text/plain": [
       "RendererRegistry.enable('altair_viewer')"
      ]
     },
     "execution_count": 1,
     "metadata": {},
     "output_type": "execute_result"
    }
   ],
   "source": [
    "import altair as alt\n",
    "import pandas as pd\n",
    "import altair_viewer\n",
    "import warnings\n",
    "warnings.filterwarnings('ignore')\n",
    "alt.renderers.enable('altair_viewer')"
   ]
  },
  {
   "cell_type": "code",
   "execution_count": 2,
   "metadata": {},
   "outputs": [
    {
     "data": {
      "text/html": [
       "<div>\n",
       "<style scoped>\n",
       "    .dataframe tbody tr th:only-of-type {\n",
       "        vertical-align: middle;\n",
       "    }\n",
       "\n",
       "    .dataframe tbody tr th {\n",
       "        vertical-align: top;\n",
       "    }\n",
       "\n",
       "    .dataframe thead th {\n",
       "        text-align: right;\n",
       "    }\n",
       "</style>\n",
       "<table border=\"1\" class=\"dataframe\">\n",
       "  <thead>\n",
       "    <tr style=\"text-align: right;\">\n",
       "      <th></th>\n",
       "      <th>Country or Area</th>\n",
       "      <th>Year</th>\n",
       "      <th>Commodity</th>\n",
       "      <th>Flow</th>\n",
       "      <th>Trade (USD)</th>\n",
       "      <th>Weight (kg)</th>\n",
       "      <th>Quantity Name</th>\n",
       "      <th>Quantity</th>\n",
       "    </tr>\n",
       "  </thead>\n",
       "  <tbody>\n",
       "    <tr>\n",
       "      <th>0</th>\n",
       "      <td>Afghanistan</td>\n",
       "      <td>2018</td>\n",
       "      <td>Cocoa powder, unsweetened</td>\n",
       "      <td>Import</td>\n",
       "      <td>7.247329e+04</td>\n",
       "      <td>8.070000e+04</td>\n",
       "      <td>Weight in kilograms</td>\n",
       "      <td>8.070000e+04</td>\n",
       "    </tr>\n",
       "    <tr>\n",
       "      <th>1</th>\n",
       "      <td>Afghanistan</td>\n",
       "      <td>2018</td>\n",
       "      <td>Chocolate/cocoa food preparations nes</td>\n",
       "      <td>Import</td>\n",
       "      <td>3.281740e+07</td>\n",
       "      <td>5.662823e+06</td>\n",
       "      <td>Weight in kilograms</td>\n",
       "      <td>5.662823e+06</td>\n",
       "    </tr>\n",
       "    <tr>\n",
       "      <th>2</th>\n",
       "      <td>Afghanistan</td>\n",
       "      <td>2018</td>\n",
       "      <td>Chocolate/cocoa food preparations nes</td>\n",
       "      <td>Export</td>\n",
       "      <td>4.327404e+06</td>\n",
       "      <td>0.000000e+00</td>\n",
       "      <td>Weight in kilograms</td>\n",
       "      <td>6.239175e+06</td>\n",
       "    </tr>\n",
       "    <tr>\n",
       "      <th>3</th>\n",
       "      <td>Afghanistan</td>\n",
       "      <td>2018</td>\n",
       "      <td>Chocolate/cocoa food preparations nes</td>\n",
       "      <td>Re-Export</td>\n",
       "      <td>7.452492e+04</td>\n",
       "      <td>0.000000e+00</td>\n",
       "      <td>Weight in kilograms</td>\n",
       "      <td>0.000000e+00</td>\n",
       "    </tr>\n",
       "    <tr>\n",
       "      <th>4</th>\n",
       "      <td>Afghanistan</td>\n",
       "      <td>2016</td>\n",
       "      <td>Chocolate/cocoa food preparations nes</td>\n",
       "      <td>Import</td>\n",
       "      <td>1.568728e+08</td>\n",
       "      <td>2.677301e+07</td>\n",
       "      <td>Weight in kilograms</td>\n",
       "      <td>2.677301e+07</td>\n",
       "    </tr>\n",
       "  </tbody>\n",
       "</table>\n",
       "</div>"
      ],
      "text/plain": [
       "  Country or Area  Year                              Commodity       Flow  \\\n",
       "0     Afghanistan  2018              Cocoa powder, unsweetened     Import   \n",
       "1     Afghanistan  2018  Chocolate/cocoa food preparations nes     Import   \n",
       "2     Afghanistan  2018  Chocolate/cocoa food preparations nes     Export   \n",
       "3     Afghanistan  2018  Chocolate/cocoa food preparations nes  Re-Export   \n",
       "4     Afghanistan  2016  Chocolate/cocoa food preparations nes     Import   \n",
       "\n",
       "    Trade (USD)   Weight (kg)        Quantity Name      Quantity  \n",
       "0  7.247329e+04  8.070000e+04  Weight in kilograms  8.070000e+04  \n",
       "1  3.281740e+07  5.662823e+06  Weight in kilograms  5.662823e+06  \n",
       "2  4.327404e+06  0.000000e+00  Weight in kilograms  6.239175e+06  \n",
       "3  7.452492e+04  0.000000e+00  Weight in kilograms  0.000000e+00  \n",
       "4  1.568728e+08  2.677301e+07  Weight in kilograms  2.677301e+07  "
      ]
     },
     "execution_count": 2,
     "metadata": {},
     "output_type": "execute_result"
    }
   ],
   "source": [
    "data = pd.read_csv('UNdata_Export_20211219_151223778.csv')\n",
    "\n",
    "data.head()"
   ]
  },
  {
   "cell_type": "code",
   "execution_count": 3,
   "metadata": {},
   "outputs": [
    {
     "data": {
      "text/plain": [
       "(352, 5)"
      ]
     },
     "execution_count": 3,
     "metadata": {},
     "output_type": "execute_result"
    }
   ],
   "source": [
    "data = data.groupby(['Commodity', 'Year' ]).mean().reset_index()\n",
    "data.shape"
   ]
  },
  {
   "cell_type": "code",
   "execution_count": 4,
   "metadata": {},
   "outputs": [
    {
     "data": {
      "text/html": [
       "<div>\n",
       "<style scoped>\n",
       "    .dataframe tbody tr th:only-of-type {\n",
       "        vertical-align: middle;\n",
       "    }\n",
       "\n",
       "    .dataframe tbody tr th {\n",
       "        vertical-align: top;\n",
       "    }\n",
       "\n",
       "    .dataframe thead th {\n",
       "        text-align: right;\n",
       "    }\n",
       "</style>\n",
       "<table border=\"1\" class=\"dataframe\">\n",
       "  <thead>\n",
       "    <tr style=\"text-align: right;\">\n",
       "      <th></th>\n",
       "      <th>Commodity</th>\n",
       "      <th>Year</th>\n",
       "      <th>Trade (USD)</th>\n",
       "      <th>Weight (kg)</th>\n",
       "      <th>Quantity</th>\n",
       "    </tr>\n",
       "  </thead>\n",
       "  <tbody>\n",
       "    <tr>\n",
       "      <th>0</th>\n",
       "      <td>Chocolate and other food preps containing coco...</td>\n",
       "      <td>1988</td>\n",
       "      <td>1.432337e+07</td>\n",
       "      <td>6.376257e+06</td>\n",
       "      <td>6.376257e+06</td>\n",
       "    </tr>\n",
       "    <tr>\n",
       "      <th>1</th>\n",
       "      <td>Chocolate and other food preps containing coco...</td>\n",
       "      <td>1989</td>\n",
       "      <td>9.745227e+06</td>\n",
       "      <td>5.253608e+06</td>\n",
       "      <td>5.253608e+06</td>\n",
       "    </tr>\n",
       "    <tr>\n",
       "      <th>2</th>\n",
       "      <td>Chocolate and other food preps containing coco...</td>\n",
       "      <td>1990</td>\n",
       "      <td>9.059725e+06</td>\n",
       "      <td>4.545472e+06</td>\n",
       "      <td>4.545472e+06</td>\n",
       "    </tr>\n",
       "    <tr>\n",
       "      <th>3</th>\n",
       "      <td>Chocolate and other food preps containing coco...</td>\n",
       "      <td>1991</td>\n",
       "      <td>1.029463e+07</td>\n",
       "      <td>5.459080e+06</td>\n",
       "      <td>5.459080e+06</td>\n",
       "    </tr>\n",
       "    <tr>\n",
       "      <th>4</th>\n",
       "      <td>Chocolate and other food preps containing coco...</td>\n",
       "      <td>1992</td>\n",
       "      <td>1.146687e+07</td>\n",
       "      <td>5.716594e+06</td>\n",
       "      <td>5.716594e+06</td>\n",
       "    </tr>\n",
       "  </tbody>\n",
       "</table>\n",
       "</div>"
      ],
      "text/plain": [
       "                                           Commodity  Year   Trade (USD)  \\\n",
       "0  Chocolate and other food preps containing coco...  1988  1.432337e+07   \n",
       "1  Chocolate and other food preps containing coco...  1989  9.745227e+06   \n",
       "2  Chocolate and other food preps containing coco...  1990  9.059725e+06   \n",
       "3  Chocolate and other food preps containing coco...  1991  1.029463e+07   \n",
       "4  Chocolate and other food preps containing coco...  1992  1.146687e+07   \n",
       "\n",
       "    Weight (kg)      Quantity  \n",
       "0  6.376257e+06  6.376257e+06  \n",
       "1  5.253608e+06  5.253608e+06  \n",
       "2  4.545472e+06  4.545472e+06  \n",
       "3  5.459080e+06  5.459080e+06  \n",
       "4  5.716594e+06  5.716594e+06  "
      ]
     },
     "execution_count": 4,
     "metadata": {},
     "output_type": "execute_result"
    }
   ],
   "source": [
    "data.head()"
   ]
  },
  {
   "cell_type": "code",
   "execution_count": 5,
   "metadata": {},
   "outputs": [
    {
     "data": {
      "text/plain": [
       "11"
      ]
     },
     "execution_count": 5,
     "metadata": {},
     "output_type": "execute_result"
    }
   ],
   "source": [
    "len(set(data['Commodity']))"
   ]
  },
  {
   "cell_type": "code",
   "execution_count": 6,
   "metadata": {},
   "outputs": [],
   "source": [
    "data['year'] = data['Year'].astype(str)\n",
    "options=[None]\n",
    "options.extend(sorted(data.Commodity.unique().tolist()))\n",
    "labels=['All']\n",
    "labels.extend(sorted(data.Commodity.unique().tolist()))"
   ]
  },
  {
   "cell_type": "code",
   "execution_count": 76,
   "metadata": {},
   "outputs": [],
   "source": [
    "input_dropdown = alt.binding_select(options = options, labels=labels)\n",
    "select_sector = alt.selection_single(fields = ['Commodity'], bind = input_dropdown, name='Choose')\n",
    "select_sector_click = alt.selection_single(on = 'click', fields = ['Commodity'], nearest = False, empty = 'all')\n",
    "\n",
    "trend = alt.Chart(data, title='Trend of cocoa goods production').mark_line().encode(\n",
    "    x = alt.X(field='year', \n",
    "              type='temporal', title='Year'\n",
    "             ),\n",
    "    y = alt.Y('Quantity:Q', title='Quantity of produced, kg'),\n",
    "    \n",
    "    tooltip = [\n",
    "        alt.Tooltip('Commodity:O', title='Sector')\n",
    "    ],\n",
    "    detail = alt.Detail('Commodity:O'),\n",
    "    size = alt.condition(\n",
    "    (select_sector) | (select_sector_click),\n",
    "    alt.value(3),\n",
    "    alt.value(0.2)),\n",
    "    color = alt.Color('Commodity:O'),\n",
    ").add_selection(select_sector\n",
    ").add_selection(select_sector_click\n",
    ").transform_filter( (select_sector_click) | (select_sector)\n",
    ").properties(width = 800, height = 400)"
   ]
  },
  {
   "cell_type": "code",
   "execution_count": 77,
   "metadata": {},
   "outputs": [],
   "source": [
    "slider = alt.binding_range(name='Year:', min=min(data['Year']), max=max(data['Year']), step=1)\n",
    "select_year =alt.selection_single(name=\"SelectorName\", fields=['Year'],\n",
    "                            bind=slider,init={\"Year\": 2010})\n",
    "\n",
    "\n",
    "pie_chart = alt.Chart(data,  title='Cocoa goods production by sector for a given year').mark_arc().encode(\n",
    "    theta=alt.Theta(field=\"Quantity\", type=\"quantitative\"),\n",
    "    color=alt.Color(field=\"Commodity\", type=\"nominal\",scale=alt.Scale(scheme='set3')),\n",
    "    tooltip = [\n",
    "        alt.Tooltip('Commodity:O', title='Sector')\n",
    "    ]\n",
    ").add_selection(select_year\n",
    ").add_selection(select_sector_click\n",
    ").transform_filter( select_year\n",
    ").properties(width = 400, height = 400)"
   ]
  },
  {
   "cell_type": "code",
   "execution_count": 78,
   "metadata": {},
   "outputs": [
    {
     "data": {
      "text/html": [
       "Displaying chart at <a href='http://localhost:23288/' target='_blank'>http://localhost:23288/</a>"
      ],
      "text/plain": [
       "Displaying chart at http://localhost:23288/"
      ]
     },
     "execution_count": 78,
     "metadata": {},
     "output_type": "execute_result"
    }
   ],
   "source": [
    "alt.hconcat(pie_chart, \n",
    "            trend\n",
    "           ).configure_view(\n",
    "    strokeWidth=0\n",
    ").configure_title(fontSize=23).configure_legend(\n",
    "labelLimit = 0,\n",
    "labelFontSize=12,\n",
    "titleFontSize=17\n",
    ") .configure_axis(\n",
    "    labelFontSize=10,\n",
    "    titleFontSize=17\n",
    ")"
   ]
  },
  {
   "cell_type": "markdown",
   "metadata": {},
   "source": [
    "# Запитання: Як змінюється ціна за вироблення товару в межах певної категорії?"
   ]
  },
  {
   "cell_type": "code",
   "execution_count": 10,
   "metadata": {},
   "outputs": [
    {
     "data": {
      "text/html": [
       "<div>\n",
       "<style scoped>\n",
       "    .dataframe tbody tr th:only-of-type {\n",
       "        vertical-align: middle;\n",
       "    }\n",
       "\n",
       "    .dataframe tbody tr th {\n",
       "        vertical-align: top;\n",
       "    }\n",
       "\n",
       "    .dataframe thead th {\n",
       "        text-align: right;\n",
       "    }\n",
       "</style>\n",
       "<table border=\"1\" class=\"dataframe\">\n",
       "  <thead>\n",
       "    <tr style=\"text-align: right;\">\n",
       "      <th></th>\n",
       "      <th>Commodity</th>\n",
       "      <th>Year</th>\n",
       "      <th>Trade (USD)</th>\n",
       "      <th>Weight (kg)</th>\n",
       "      <th>Quantity</th>\n",
       "      <th>year</th>\n",
       "      <th>$/kg</th>\n",
       "    </tr>\n",
       "  </thead>\n",
       "  <tbody>\n",
       "    <tr>\n",
       "      <th>0</th>\n",
       "      <td>Chocolate and other food preps containing coco...</td>\n",
       "      <td>1988</td>\n",
       "      <td>1.432337e+07</td>\n",
       "      <td>6.376257e+06</td>\n",
       "      <td>6.376257e+06</td>\n",
       "      <td>1988</td>\n",
       "      <td>2.246360</td>\n",
       "    </tr>\n",
       "    <tr>\n",
       "      <th>1</th>\n",
       "      <td>Chocolate and other food preps containing coco...</td>\n",
       "      <td>1989</td>\n",
       "      <td>9.745227e+06</td>\n",
       "      <td>5.253608e+06</td>\n",
       "      <td>5.253608e+06</td>\n",
       "      <td>1989</td>\n",
       "      <td>1.854959</td>\n",
       "    </tr>\n",
       "    <tr>\n",
       "      <th>2</th>\n",
       "      <td>Chocolate and other food preps containing coco...</td>\n",
       "      <td>1990</td>\n",
       "      <td>9.059725e+06</td>\n",
       "      <td>4.545472e+06</td>\n",
       "      <td>4.545472e+06</td>\n",
       "      <td>1990</td>\n",
       "      <td>1.993132</td>\n",
       "    </tr>\n",
       "    <tr>\n",
       "      <th>3</th>\n",
       "      <td>Chocolate and other food preps containing coco...</td>\n",
       "      <td>1991</td>\n",
       "      <td>1.029463e+07</td>\n",
       "      <td>5.459080e+06</td>\n",
       "      <td>5.459080e+06</td>\n",
       "      <td>1991</td>\n",
       "      <td>1.885781</td>\n",
       "    </tr>\n",
       "    <tr>\n",
       "      <th>4</th>\n",
       "      <td>Chocolate and other food preps containing coco...</td>\n",
       "      <td>1992</td>\n",
       "      <td>1.146687e+07</td>\n",
       "      <td>5.716594e+06</td>\n",
       "      <td>5.716594e+06</td>\n",
       "      <td>1992</td>\n",
       "      <td>2.005892</td>\n",
       "    </tr>\n",
       "  </tbody>\n",
       "</table>\n",
       "</div>"
      ],
      "text/plain": [
       "                                           Commodity  Year   Trade (USD)  \\\n",
       "0  Chocolate and other food preps containing coco...  1988  1.432337e+07   \n",
       "1  Chocolate and other food preps containing coco...  1989  9.745227e+06   \n",
       "2  Chocolate and other food preps containing coco...  1990  9.059725e+06   \n",
       "3  Chocolate and other food preps containing coco...  1991  1.029463e+07   \n",
       "4  Chocolate and other food preps containing coco...  1992  1.146687e+07   \n",
       "\n",
       "    Weight (kg)      Quantity  year      $/kg  \n",
       "0  6.376257e+06  6.376257e+06  1988  2.246360  \n",
       "1  5.253608e+06  5.253608e+06  1989  1.854959  \n",
       "2  4.545472e+06  4.545472e+06  1990  1.993132  \n",
       "3  5.459080e+06  5.459080e+06  1991  1.885781  \n",
       "4  5.716594e+06  5.716594e+06  1992  2.005892  "
      ]
     },
     "execution_count": 10,
     "metadata": {},
     "output_type": "execute_result"
    }
   ],
   "source": [
    "data['$/kg'] = data['Trade (USD)']/data['Quantity']\n",
    "data.head()"
   ]
  },
  {
   "cell_type": "code",
   "execution_count": 72,
   "metadata": {},
   "outputs": [
    {
     "data": {
      "text/html": [
       "Displaying chart at <a href='http://localhost:23288/' target='_blank'>http://localhost:23288/</a>"
      ],
      "text/plain": [
       "Displaying chart at http://localhost:23288/"
      ]
     },
     "execution_count": 72,
     "metadata": {},
     "output_type": "execute_result"
    }
   ],
   "source": [
    "\n",
    "input_dropdown = alt.binding_select(options = options, labels=labels)\n",
    "select_sector = alt.selection_single(fields = ['Commodity'], bind = input_dropdown, name='Choose')\n",
    "\n",
    "histogram_context  = alt.Chart(data).mark_bar(color = 'lightgray').encode(\n",
    "    x = alt.X(\"$/kg:Q\", bin=alt.Bin(extent=[0, 7], step=0.25), title='Price per kg of goods, $'),\n",
    "    y = alt.Y('count()')\n",
    ")\n",
    "\n",
    "hist = alt.Chart(data, title='Distribution of price for kilo of cocoa goods over sectors').mark_bar().encode(\n",
    "    x = alt.X(\"$/kg:Q\",bin=alt.Bin(extent=[0, 7], step=0.25), title='Price per kg of goods, $'),\n",
    "    y = alt.Y('count()'),\n",
    "    color = alt.value('FC9C3C')\n",
    ").add_selection(select_sector\n",
    ").transform_filter( select_sector\n",
    ")\n",
    "\n",
    "histogram = (histogram_context+hist).properties(width = 800, height = 400\n",
    ").configure_title(fontSize=23).configure_axis(\n",
    "    labelFontSize=10,\n",
    "    titleFontSize=17\n",
    ")\n",
    "histogram"
   ]
  },
  {
   "cell_type": "code",
   "execution_count": 42,
   "metadata": {},
   "outputs": [
    {
     "data": {
      "text/plain": [
       "11"
      ]
     },
     "execution_count": 42,
     "metadata": {},
     "output_type": "execute_result"
    }
   ],
   "source": [
    "len(set(data['Commodity']))"
   ]
  },
  {
   "cell_type": "code",
   "execution_count": null,
   "metadata": {},
   "outputs": [],
   "source": []
  }
 ],
 "metadata": {
  "kernelspec": {
   "display_name": "Python 3",
   "language": "python",
   "name": "python3"
  },
  "language_info": {
   "codemirror_mode": {
    "name": "ipython",
    "version": 3
   },
   "file_extension": ".py",
   "mimetype": "text/x-python",
   "name": "python",
   "nbconvert_exporter": "python",
   "pygments_lexer": "ipython3",
   "version": "3.8.3"
  }
 },
 "nbformat": 4,
 "nbformat_minor": 4
}
